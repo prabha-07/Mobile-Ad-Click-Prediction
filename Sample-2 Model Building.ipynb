{
 "cells": [
  {
   "cell_type": "markdown",
   "id": "ba6a1a42-90e6-4746-aae9-52817b39c7b5",
   "metadata": {},
   "source": [
    "# Sample-2 Model Building"
   ]
  },
  {
   "cell_type": "code",
   "execution_count": 99,
   "id": "42bb150a-d8d6-4a3d-99f5-fe1cebf6e42e",
   "metadata": {},
   "outputs": [],
   "source": [
    "import pandas as pd\n",
    "import numpy as np\n",
    "from statsmodels.formula.api import ols,glm\n",
    "from sklearn.linear_model import LinearRegression, LogisticRegression, Ridge, Lasso, ElasticNet\n",
    "from sklearn.linear_model import LinearRegression, Ridge, Lasso, ElasticNet, SGDRegressor, SGDClassifier\n",
    "from sklearn.model_selection import train_test_split, KFold, StratifiedKFold, GridSearchCV, RandomizedSearchCV\n",
    "from sklearn.metrics import accuracy_score, mean_absolute_error, mean_squared_error\n",
    "from sklearn.preprocessing import StandardScaler\n",
    "from sklearn.ensemble import RandomForestClassifier\n",
    "from sklearn.pipeline import Pipeline\n",
    "from sklearn.compose import ColumnTransformer\n",
    "from sklearn.impute import SimpleImputer\n",
    "from sklearn.preprocessing import OneHotEncoder, OrdinalEncoder\n",
    "import statsmodels.api as sm\n",
    "import category_encoders as ce\n",
    "from sklearn.preprocessing import LabelEncoder\n",
    "from collections import defaultdict"
   ]
  },
  {
   "cell_type": "code",
   "execution_count": 4,
   "id": "8ff8f31c-af7c-4bf6-aeeb-83587e247804",
   "metadata": {},
   "outputs": [],
   "source": [
    "from random import random,seed\n",
    "seed(42)\n",
    "SAMPLE_SIZE=0.028\n",
    "da=pd.read_csv('train.csv', skiprows=lambda x: random() > SAMPLE_SIZE)"
   ]
  },
  {
   "cell_type": "code",
   "execution_count": 5,
   "id": "32a091b0-0279-4693-85c0-555cf8e16b93",
   "metadata": {},
   "outputs": [
    {
     "data": {
      "text/html": [
       "<div>\n",
       "<style scoped>\n",
       "    .dataframe tbody tr th:only-of-type {\n",
       "        vertical-align: middle;\n",
       "    }\n",
       "\n",
       "    .dataframe tbody tr th {\n",
       "        vertical-align: top;\n",
       "    }\n",
       "\n",
       "    .dataframe thead th {\n",
       "        text-align: right;\n",
       "    }\n",
       "</style>\n",
       "<table border=\"1\" class=\"dataframe\">\n",
       "  <thead>\n",
       "    <tr style=\"text-align: right;\">\n",
       "      <th></th>\n",
       "      <th>1000009418151094273</th>\n",
       "      <th>0</th>\n",
       "      <th>14102100</th>\n",
       "      <th>1005</th>\n",
       "      <th>0.1</th>\n",
       "      <th>1fbe01fe</th>\n",
       "      <th>f3845767</th>\n",
       "      <th>28905ebd</th>\n",
       "      <th>ecad2386</th>\n",
       "      <th>7801e8d9</th>\n",
       "      <th>...</th>\n",
       "      <th>1</th>\n",
       "      <th>2</th>\n",
       "      <th>15706</th>\n",
       "      <th>320</th>\n",
       "      <th>50</th>\n",
       "      <th>1722</th>\n",
       "      <th>0.2</th>\n",
       "      <th>35</th>\n",
       "      <th>-1</th>\n",
       "      <th>79</th>\n",
       "    </tr>\n",
       "  </thead>\n",
       "  <tbody>\n",
       "    <tr>\n",
       "      <th>0</th>\n",
       "      <td>10001966791793526909</td>\n",
       "      <td>0</td>\n",
       "      <td>14102100</td>\n",
       "      <td>1005</td>\n",
       "      <td>0</td>\n",
       "      <td>1fbe01fe</td>\n",
       "      <td>f3845767</td>\n",
       "      <td>28905ebd</td>\n",
       "      <td>ecad2386</td>\n",
       "      <td>7801e8d9</td>\n",
       "      <td>...</td>\n",
       "      <td>1</td>\n",
       "      <td>0</td>\n",
       "      <td>15701</td>\n",
       "      <td>320</td>\n",
       "      <td>50</td>\n",
       "      <td>1722</td>\n",
       "      <td>0</td>\n",
       "      <td>35</td>\n",
       "      <td>-1</td>\n",
       "      <td>79</td>\n",
       "    </tr>\n",
       "    <tr>\n",
       "      <th>1</th>\n",
       "      <td>10004181428767727519</td>\n",
       "      <td>0</td>\n",
       "      <td>14102100</td>\n",
       "      <td>1005</td>\n",
       "      <td>1</td>\n",
       "      <td>0c2fe9d6</td>\n",
       "      <td>27e3c518</td>\n",
       "      <td>28905ebd</td>\n",
       "      <td>ecad2386</td>\n",
       "      <td>7801e8d9</td>\n",
       "      <td>...</td>\n",
       "      <td>1</td>\n",
       "      <td>0</td>\n",
       "      <td>6558</td>\n",
       "      <td>320</td>\n",
       "      <td>50</td>\n",
       "      <td>571</td>\n",
       "      <td>2</td>\n",
       "      <td>39</td>\n",
       "      <td>-1</td>\n",
       "      <td>32</td>\n",
       "    </tr>\n",
       "    <tr>\n",
       "      <th>2</th>\n",
       "      <td>10015745448500295401</td>\n",
       "      <td>0</td>\n",
       "      <td>14102100</td>\n",
       "      <td>1005</td>\n",
       "      <td>0</td>\n",
       "      <td>1fbe01fe</td>\n",
       "      <td>f3845767</td>\n",
       "      <td>28905ebd</td>\n",
       "      <td>ecad2386</td>\n",
       "      <td>7801e8d9</td>\n",
       "      <td>...</td>\n",
       "      <td>1</td>\n",
       "      <td>0</td>\n",
       "      <td>15701</td>\n",
       "      <td>320</td>\n",
       "      <td>50</td>\n",
       "      <td>1722</td>\n",
       "      <td>0</td>\n",
       "      <td>35</td>\n",
       "      <td>-1</td>\n",
       "      <td>79</td>\n",
       "    </tr>\n",
       "    <tr>\n",
       "      <th>3</th>\n",
       "      <td>10017994765842027302</td>\n",
       "      <td>0</td>\n",
       "      <td>14102100</td>\n",
       "      <td>1005</td>\n",
       "      <td>0</td>\n",
       "      <td>1fbe01fe</td>\n",
       "      <td>f3845767</td>\n",
       "      <td>28905ebd</td>\n",
       "      <td>ecad2386</td>\n",
       "      <td>7801e8d9</td>\n",
       "      <td>...</td>\n",
       "      <td>1</td>\n",
       "      <td>0</td>\n",
       "      <td>15707</td>\n",
       "      <td>320</td>\n",
       "      <td>50</td>\n",
       "      <td>1722</td>\n",
       "      <td>0</td>\n",
       "      <td>35</td>\n",
       "      <td>-1</td>\n",
       "      <td>79</td>\n",
       "    </tr>\n",
       "    <tr>\n",
       "      <th>4</th>\n",
       "      <td>10018099580463747729</td>\n",
       "      <td>0</td>\n",
       "      <td>14102100</td>\n",
       "      <td>1005</td>\n",
       "      <td>0</td>\n",
       "      <td>d6137915</td>\n",
       "      <td>bb1ef334</td>\n",
       "      <td>f028772b</td>\n",
       "      <td>ecad2386</td>\n",
       "      <td>7801e8d9</td>\n",
       "      <td>...</td>\n",
       "      <td>1</td>\n",
       "      <td>0</td>\n",
       "      <td>16920</td>\n",
       "      <td>320</td>\n",
       "      <td>50</td>\n",
       "      <td>1899</td>\n",
       "      <td>0</td>\n",
       "      <td>431</td>\n",
       "      <td>100081</td>\n",
       "      <td>117</td>\n",
       "    </tr>\n",
       "    <tr>\n",
       "      <th>...</th>\n",
       "      <td>...</td>\n",
       "      <td>...</td>\n",
       "      <td>...</td>\n",
       "      <td>...</td>\n",
       "      <td>...</td>\n",
       "      <td>...</td>\n",
       "      <td>...</td>\n",
       "      <td>...</td>\n",
       "      <td>...</td>\n",
       "      <td>...</td>\n",
       "      <td>...</td>\n",
       "      <td>...</td>\n",
       "      <td>...</td>\n",
       "      <td>...</td>\n",
       "      <td>...</td>\n",
       "      <td>...</td>\n",
       "      <td>...</td>\n",
       "      <td>...</td>\n",
       "      <td>...</td>\n",
       "      <td>...</td>\n",
       "      <td>...</td>\n",
       "    </tr>\n",
       "    <tr>\n",
       "      <th>1130365</th>\n",
       "      <td>997225830558183390</td>\n",
       "      <td>0</td>\n",
       "      <td>14103023</td>\n",
       "      <td>1005</td>\n",
       "      <td>0</td>\n",
       "      <td>1fbe01fe</td>\n",
       "      <td>f3845767</td>\n",
       "      <td>28905ebd</td>\n",
       "      <td>ecad2386</td>\n",
       "      <td>7801e8d9</td>\n",
       "      <td>...</td>\n",
       "      <td>1</td>\n",
       "      <td>0</td>\n",
       "      <td>22676</td>\n",
       "      <td>320</td>\n",
       "      <td>50</td>\n",
       "      <td>2616</td>\n",
       "      <td>0</td>\n",
       "      <td>35</td>\n",
       "      <td>100083</td>\n",
       "      <td>51</td>\n",
       "    </tr>\n",
       "    <tr>\n",
       "      <th>1130366</th>\n",
       "      <td>9976695138486904592</td>\n",
       "      <td>0</td>\n",
       "      <td>14103023</td>\n",
       "      <td>1005</td>\n",
       "      <td>1</td>\n",
       "      <td>85f751fd</td>\n",
       "      <td>c4e18dd6</td>\n",
       "      <td>50e219e0</td>\n",
       "      <td>87c134b9</td>\n",
       "      <td>7801e8d9</td>\n",
       "      <td>...</td>\n",
       "      <td>1</td>\n",
       "      <td>0</td>\n",
       "      <td>20508</td>\n",
       "      <td>320</td>\n",
       "      <td>50</td>\n",
       "      <td>2351</td>\n",
       "      <td>3</td>\n",
       "      <td>163</td>\n",
       "      <td>-1</td>\n",
       "      <td>61</td>\n",
       "    </tr>\n",
       "    <tr>\n",
       "      <th>1130367</th>\n",
       "      <td>9978195739843146297</td>\n",
       "      <td>0</td>\n",
       "      <td>14103023</td>\n",
       "      <td>1005</td>\n",
       "      <td>0</td>\n",
       "      <td>85f751fd</td>\n",
       "      <td>c4e18dd6</td>\n",
       "      <td>50e219e0</td>\n",
       "      <td>7e7baafa</td>\n",
       "      <td>2347f47a</td>\n",
       "      <td>...</td>\n",
       "      <td>1</td>\n",
       "      <td>0</td>\n",
       "      <td>23866</td>\n",
       "      <td>320</td>\n",
       "      <td>50</td>\n",
       "      <td>2736</td>\n",
       "      <td>0</td>\n",
       "      <td>33</td>\n",
       "      <td>100170</td>\n",
       "      <td>246</td>\n",
       "    </tr>\n",
       "    <tr>\n",
       "      <th>1130368</th>\n",
       "      <td>9983622756355579556</td>\n",
       "      <td>1</td>\n",
       "      <td>14103023</td>\n",
       "      <td>1005</td>\n",
       "      <td>1</td>\n",
       "      <td>e151e245</td>\n",
       "      <td>7e091613</td>\n",
       "      <td>f028772b</td>\n",
       "      <td>ecad2386</td>\n",
       "      <td>7801e8d9</td>\n",
       "      <td>...</td>\n",
       "      <td>1</td>\n",
       "      <td>0</td>\n",
       "      <td>22815</td>\n",
       "      <td>320</td>\n",
       "      <td>50</td>\n",
       "      <td>2647</td>\n",
       "      <td>2</td>\n",
       "      <td>39</td>\n",
       "      <td>100148</td>\n",
       "      <td>23</td>\n",
       "    </tr>\n",
       "    <tr>\n",
       "      <th>1130369</th>\n",
       "      <td>9997781251272087830</td>\n",
       "      <td>0</td>\n",
       "      <td>14103023</td>\n",
       "      <td>1005</td>\n",
       "      <td>0</td>\n",
       "      <td>85f751fd</td>\n",
       "      <td>c4e18dd6</td>\n",
       "      <td>50e219e0</td>\n",
       "      <td>7e7baafa</td>\n",
       "      <td>2347f47a</td>\n",
       "      <td>...</td>\n",
       "      <td>1</td>\n",
       "      <td>0</td>\n",
       "      <td>23866</td>\n",
       "      <td>320</td>\n",
       "      <td>50</td>\n",
       "      <td>2736</td>\n",
       "      <td>0</td>\n",
       "      <td>33</td>\n",
       "      <td>100170</td>\n",
       "      <td>246</td>\n",
       "    </tr>\n",
       "  </tbody>\n",
       "</table>\n",
       "<p>1130370 rows × 24 columns</p>\n",
       "</div>"
      ],
      "text/plain": [
       "          1000009418151094273  0  14102100  1005  0.1  1fbe01fe  f3845767  \\\n",
       "0        10001966791793526909  0  14102100  1005    0  1fbe01fe  f3845767   \n",
       "1        10004181428767727519  0  14102100  1005    1  0c2fe9d6  27e3c518   \n",
       "2        10015745448500295401  0  14102100  1005    0  1fbe01fe  f3845767   \n",
       "3        10017994765842027302  0  14102100  1005    0  1fbe01fe  f3845767   \n",
       "4        10018099580463747729  0  14102100  1005    0  d6137915  bb1ef334   \n",
       "...                       ... ..       ...   ...  ...       ...       ...   \n",
       "1130365    997225830558183390  0  14103023  1005    0  1fbe01fe  f3845767   \n",
       "1130366   9976695138486904592  0  14103023  1005    1  85f751fd  c4e18dd6   \n",
       "1130367   9978195739843146297  0  14103023  1005    0  85f751fd  c4e18dd6   \n",
       "1130368   9983622756355579556  1  14103023  1005    1  e151e245  7e091613   \n",
       "1130369   9997781251272087830  0  14103023  1005    0  85f751fd  c4e18dd6   \n",
       "\n",
       "         28905ebd  ecad2386  7801e8d9  ...  1  2  15706  320  50  1722  0.2  \\\n",
       "0        28905ebd  ecad2386  7801e8d9  ...  1  0  15701  320  50  1722    0   \n",
       "1        28905ebd  ecad2386  7801e8d9  ...  1  0   6558  320  50   571    2   \n",
       "2        28905ebd  ecad2386  7801e8d9  ...  1  0  15701  320  50  1722    0   \n",
       "3        28905ebd  ecad2386  7801e8d9  ...  1  0  15707  320  50  1722    0   \n",
       "4        f028772b  ecad2386  7801e8d9  ...  1  0  16920  320  50  1899    0   \n",
       "...           ...       ...       ...  ... .. ..    ...  ...  ..   ...  ...   \n",
       "1130365  28905ebd  ecad2386  7801e8d9  ...  1  0  22676  320  50  2616    0   \n",
       "1130366  50e219e0  87c134b9  7801e8d9  ...  1  0  20508  320  50  2351    3   \n",
       "1130367  50e219e0  7e7baafa  2347f47a  ...  1  0  23866  320  50  2736    0   \n",
       "1130368  f028772b  ecad2386  7801e8d9  ...  1  0  22815  320  50  2647    2   \n",
       "1130369  50e219e0  7e7baafa  2347f47a  ...  1  0  23866  320  50  2736    0   \n",
       "\n",
       "          35      -1   79  \n",
       "0         35      -1   79  \n",
       "1         39      -1   32  \n",
       "2         35      -1   79  \n",
       "3         35      -1   79  \n",
       "4        431  100081  117  \n",
       "...      ...     ...  ...  \n",
       "1130365   35  100083   51  \n",
       "1130366  163      -1   61  \n",
       "1130367   33  100170  246  \n",
       "1130368   39  100148   23  \n",
       "1130369   33  100170  246  \n",
       "\n",
       "[1130370 rows x 24 columns]"
      ]
     },
     "execution_count": 5,
     "metadata": {},
     "output_type": "execute_result"
    }
   ],
   "source": [
    "da"
   ]
  },
  {
   "cell_type": "code",
   "execution_count": 6,
   "id": "7f502d36-d97a-4193-bc42-de6303cd2df1",
   "metadata": {},
   "outputs": [
    {
     "data": {
      "text/plain": [
       "Index(['1000009418151094273', '0', '14102100', '1005', '0.1', '1fbe01fe',\n",
       "       'f3845767', '28905ebd', 'ecad2386', '7801e8d9', '07d7df22', 'a99f214a',\n",
       "       'ddd2926e', '44956a24', '1', '2', '15706', '320', '50', '1722', '0.2',\n",
       "       '35', '-1', '79'],\n",
       "      dtype='object')"
      ]
     },
     "execution_count": 6,
     "metadata": {},
     "output_type": "execute_result"
    }
   ],
   "source": [
    "da.columns"
   ]
  },
  {
   "cell_type": "code",
   "execution_count": 7,
   "id": "d90ac015-8ab8-4a50-b154-471968a4aab4",
   "metadata": {},
   "outputs": [],
   "source": [
    "da.columns = ['id', 'click', 'hour', 'C1', 'banner_pos', 'site_id', 'site_domain',\n",
    "       'site_category', 'app_id', 'app_domain', 'app_category', 'device_id',\n",
    "       'device_ip', 'device_model', 'device_type', 'device_conn_type', 'C14',\n",
    "       'C15', 'C16', 'C17', 'C18', 'C19', 'C20', 'C21']"
   ]
  },
  {
   "cell_type": "code",
   "execution_count": 8,
   "id": "4b9cbda3-2a24-4775-a5e8-7981db7d2004",
   "metadata": {},
   "outputs": [
    {
     "name": "stdout",
     "output_type": "stream",
     "text": [
      "<class 'pandas.core.frame.DataFrame'>\n",
      "RangeIndex: 1130370 entries, 0 to 1130369\n",
      "Data columns (total 24 columns):\n",
      " #   Column            Non-Null Count    Dtype \n",
      "---  ------            --------------    ----- \n",
      " 0   id                1130370 non-null  uint64\n",
      " 1   click             1130370 non-null  int64 \n",
      " 2   hour              1130370 non-null  int64 \n",
      " 3   C1                1130370 non-null  int64 \n",
      " 4   banner_pos        1130370 non-null  int64 \n",
      " 5   site_id           1130370 non-null  object\n",
      " 6   site_domain       1130370 non-null  object\n",
      " 7   site_category     1130370 non-null  object\n",
      " 8   app_id            1130370 non-null  object\n",
      " 9   app_domain        1130370 non-null  object\n",
      " 10  app_category      1130370 non-null  object\n",
      " 11  device_id         1130370 non-null  object\n",
      " 12  device_ip         1130370 non-null  object\n",
      " 13  device_model      1130370 non-null  object\n",
      " 14  device_type       1130370 non-null  int64 \n",
      " 15  device_conn_type  1130370 non-null  int64 \n",
      " 16  C14               1130370 non-null  int64 \n",
      " 17  C15               1130370 non-null  int64 \n",
      " 18  C16               1130370 non-null  int64 \n",
      " 19  C17               1130370 non-null  int64 \n",
      " 20  C18               1130370 non-null  int64 \n",
      " 21  C19               1130370 non-null  int64 \n",
      " 22  C20               1130370 non-null  int64 \n",
      " 23  C21               1130370 non-null  int64 \n",
      "dtypes: int64(14), object(9), uint64(1)\n",
      "memory usage: 207.0+ MB\n"
     ]
    }
   ],
   "source": [
    "da.info()"
   ]
  },
  {
   "cell_type": "code",
   "execution_count": 9,
   "id": "b9ee1655-491b-4d39-9c6a-6d4d66058bb6",
   "metadata": {},
   "outputs": [],
   "source": [
    "X = da.drop(columns = ['click','id'])\n",
    "y = da['click']"
   ]
  },
  {
   "cell_type": "code",
   "execution_count": 10,
   "id": "39f9c401-edd4-414c-9550-d1a522002c53",
   "metadata": {},
   "outputs": [],
   "source": [
    "X.columns = ['hour', 'C1', 'banner_pos', 'site_id', 'site_domain',\n",
    "       'site_category', 'app_id', 'app_domain', 'app_category', 'device_id',\n",
    "       'device_ip', 'device_model', 'device_type', 'device_conn_type', 'C14',\n",
    "       'C15', 'C16', 'C17', 'C18', 'C19', 'C20', 'C21']\n",
    "y.columns = ['click']"
   ]
  },
  {
   "cell_type": "code",
   "execution_count": 11,
   "id": "a6540dfd-c463-4613-95bc-a237a97d0c33",
   "metadata": {},
   "outputs": [],
   "source": [
    "X_train, X_test, y_train, y_test = train_test_split(X, y, test_size=0.20, random_state=2022)"
   ]
  },
  {
   "cell_type": "code",
   "execution_count": 12,
   "id": "39b2f765-b2e2-4fe5-b738-0f3e20d6d7f8",
   "metadata": {},
   "outputs": [],
   "source": [
    "num_vars = X.select_dtypes(exclude='object').columns\n",
    "cat_vars = X.select_dtypes(include='object').columns"
   ]
  },
  {
   "cell_type": "code",
   "execution_count": 13,
   "id": "422c3774-693c-4fcf-9268-00e538b66340",
   "metadata": {},
   "outputs": [],
   "source": [
    "pipeline = Pipeline([('si',SimpleImputer(strategy='median')),('std',StandardScaler())])"
   ]
  },
  {
   "cell_type": "code",
   "execution_count": 14,
   "id": "264d5fb0-3332-4eb9-a087-437840c35941",
   "metadata": {},
   "outputs": [
    {
     "data": {
      "text/html": [
       "<div>\n",
       "<style scoped>\n",
       "    .dataframe tbody tr th:only-of-type {\n",
       "        vertical-align: middle;\n",
       "    }\n",
       "\n",
       "    .dataframe tbody tr th {\n",
       "        vertical-align: top;\n",
       "    }\n",
       "\n",
       "    .dataframe thead th {\n",
       "        text-align: right;\n",
       "    }\n",
       "</style>\n",
       "<table border=\"1\" class=\"dataframe\">\n",
       "  <thead>\n",
       "    <tr style=\"text-align: right;\">\n",
       "      <th></th>\n",
       "      <th>site_id</th>\n",
       "      <th>site_domain</th>\n",
       "      <th>site_category</th>\n",
       "      <th>app_id</th>\n",
       "      <th>app_domain</th>\n",
       "      <th>app_category</th>\n",
       "      <th>device_id</th>\n",
       "      <th>device_ip</th>\n",
       "      <th>device_model</th>\n",
       "    </tr>\n",
       "  </thead>\n",
       "  <tbody>\n",
       "    <tr>\n",
       "      <th>74545</th>\n",
       "      <td>0.119250</td>\n",
       "      <td>0.123157</td>\n",
       "      <td>0.128854</td>\n",
       "      <td>0.186599</td>\n",
       "      <td>0.180652</td>\n",
       "      <td>0.093352</td>\n",
       "      <td>0.000000</td>\n",
       "      <td>0.169714</td>\n",
       "      <td>0.264895</td>\n",
       "    </tr>\n",
       "    <tr>\n",
       "      <th>375783</th>\n",
       "      <td>0.059667</td>\n",
       "      <td>0.093654</td>\n",
       "      <td>0.281317</td>\n",
       "      <td>0.198247</td>\n",
       "      <td>0.194532</td>\n",
       "      <td>0.198831</td>\n",
       "      <td>0.174038</td>\n",
       "      <td>0.169714</td>\n",
       "      <td>0.182077</td>\n",
       "    </tr>\n",
       "    <tr>\n",
       "      <th>258793</th>\n",
       "      <td>0.119250</td>\n",
       "      <td>0.123157</td>\n",
       "      <td>0.128854</td>\n",
       "      <td>0.186599</td>\n",
       "      <td>0.180652</td>\n",
       "      <td>0.093352</td>\n",
       "      <td>0.169714</td>\n",
       "      <td>0.400000</td>\n",
       "      <td>0.160920</td>\n",
       "    </tr>\n",
       "    <tr>\n",
       "      <th>894156</th>\n",
       "      <td>0.119250</td>\n",
       "      <td>0.123157</td>\n",
       "      <td>0.128854</td>\n",
       "      <td>0.191496</td>\n",
       "      <td>0.191451</td>\n",
       "      <td>0.108278</td>\n",
       "      <td>0.174038</td>\n",
       "      <td>0.169714</td>\n",
       "      <td>0.169838</td>\n",
       "    </tr>\n",
       "    <tr>\n",
       "      <th>488569</th>\n",
       "      <td>0.119250</td>\n",
       "      <td>0.123157</td>\n",
       "      <td>0.128854</td>\n",
       "      <td>0.136242</td>\n",
       "      <td>0.138858</td>\n",
       "      <td>0.090358</td>\n",
       "      <td>0.174038</td>\n",
       "      <td>0.000000</td>\n",
       "      <td>0.225448</td>\n",
       "    </tr>\n",
       "    <tr>\n",
       "      <th>...</th>\n",
       "      <td>...</td>\n",
       "      <td>...</td>\n",
       "      <td>...</td>\n",
       "      <td>...</td>\n",
       "      <td>...</td>\n",
       "      <td>...</td>\n",
       "      <td>...</td>\n",
       "      <td>...</td>\n",
       "      <td>...</td>\n",
       "    </tr>\n",
       "    <tr>\n",
       "      <th>439985</th>\n",
       "      <td>0.100799</td>\n",
       "      <td>0.259625</td>\n",
       "      <td>0.179209</td>\n",
       "      <td>0.198246</td>\n",
       "      <td>0.194530</td>\n",
       "      <td>0.198829</td>\n",
       "      <td>0.174036</td>\n",
       "      <td>0.097134</td>\n",
       "      <td>0.127920</td>\n",
       "    </tr>\n",
       "    <tr>\n",
       "      <th>103024</th>\n",
       "      <td>0.119250</td>\n",
       "      <td>0.123157</td>\n",
       "      <td>0.128854</td>\n",
       "      <td>0.022881</td>\n",
       "      <td>0.123753</td>\n",
       "      <td>0.093352</td>\n",
       "      <td>0.174038</td>\n",
       "      <td>0.083333</td>\n",
       "      <td>0.080258</td>\n",
       "    </tr>\n",
       "    <tr>\n",
       "      <th>147629</th>\n",
       "      <td>0.060743</td>\n",
       "      <td>0.060743</td>\n",
       "      <td>0.179213</td>\n",
       "      <td>0.198247</td>\n",
       "      <td>0.194532</td>\n",
       "      <td>0.198831</td>\n",
       "      <td>0.174038</td>\n",
       "      <td>0.000000</td>\n",
       "      <td>0.152768</td>\n",
       "    </tr>\n",
       "    <tr>\n",
       "      <th>787676</th>\n",
       "      <td>0.119250</td>\n",
       "      <td>0.123157</td>\n",
       "      <td>0.128854</td>\n",
       "      <td>0.048090</td>\n",
       "      <td>0.048084</td>\n",
       "      <td>0.108278</td>\n",
       "      <td>0.174038</td>\n",
       "      <td>0.169714</td>\n",
       "      <td>0.107210</td>\n",
       "    </tr>\n",
       "    <tr>\n",
       "      <th>349053</th>\n",
       "      <td>0.119250</td>\n",
       "      <td>0.123157</td>\n",
       "      <td>0.128854</td>\n",
       "      <td>0.146867</td>\n",
       "      <td>0.138858</td>\n",
       "      <td>0.090358</td>\n",
       "      <td>0.169714</td>\n",
       "      <td>0.166667</td>\n",
       "      <td>0.320413</td>\n",
       "    </tr>\n",
       "  </tbody>\n",
       "</table>\n",
       "<p>904296 rows × 9 columns</p>\n",
       "</div>"
      ],
      "text/plain": [
       "         site_id  site_domain  site_category    app_id  app_domain  \\\n",
       "74545   0.119250     0.123157       0.128854  0.186599    0.180652   \n",
       "375783  0.059667     0.093654       0.281317  0.198247    0.194532   \n",
       "258793  0.119250     0.123157       0.128854  0.186599    0.180652   \n",
       "894156  0.119250     0.123157       0.128854  0.191496    0.191451   \n",
       "488569  0.119250     0.123157       0.128854  0.136242    0.138858   \n",
       "...          ...          ...            ...       ...         ...   \n",
       "439985  0.100799     0.259625       0.179209  0.198246    0.194530   \n",
       "103024  0.119250     0.123157       0.128854  0.022881    0.123753   \n",
       "147629  0.060743     0.060743       0.179213  0.198247    0.194532   \n",
       "787676  0.119250     0.123157       0.128854  0.048090    0.048084   \n",
       "349053  0.119250     0.123157       0.128854  0.146867    0.138858   \n",
       "\n",
       "        app_category  device_id  device_ip  device_model  \n",
       "74545       0.093352   0.000000   0.169714      0.264895  \n",
       "375783      0.198831   0.174038   0.169714      0.182077  \n",
       "258793      0.093352   0.169714   0.400000      0.160920  \n",
       "894156      0.108278   0.174038   0.169714      0.169838  \n",
       "488569      0.090358   0.174038   0.000000      0.225448  \n",
       "...              ...        ...        ...           ...  \n",
       "439985      0.198829   0.174036   0.097134      0.127920  \n",
       "103024      0.093352   0.174038   0.083333      0.080258  \n",
       "147629      0.198831   0.174038   0.000000      0.152768  \n",
       "787676      0.108278   0.174038   0.169714      0.107210  \n",
       "349053      0.090358   0.169714   0.166667      0.320413  \n",
       "\n",
       "[904296 rows x 9 columns]"
      ]
     },
     "execution_count": 14,
     "metadata": {},
     "output_type": "execute_result"
    }
   ],
   "source": [
    "encoder = ce.LeaveOneOutEncoder(return_df=True)\n",
    "encoder.fit_transform(X_train[cat_vars], y_train)"
   ]
  },
  {
   "cell_type": "code",
   "execution_count": 15,
   "id": "57d80d7e-6d8f-4810-ac55-e48e7532a033",
   "metadata": {},
   "outputs": [],
   "source": [
    "preprocessing_pipeline = ColumnTransformer([('num',pipeline,num_vars),('cat',encoder,cat_vars)])"
   ]
  },
  {
   "cell_type": "code",
   "execution_count": 16,
   "id": "9fd7e38c-a034-45a8-a20c-0741927d0d74",
   "metadata": {},
   "outputs": [],
   "source": [
    "X_train_std=pd.DataFrame(preprocessing_pipeline.fit_transform(X_train,y_train))"
   ]
  },
  {
   "cell_type": "code",
   "execution_count": 17,
   "id": "018f338c-4e7a-4276-a8cc-e24430af54e1",
   "metadata": {},
   "outputs": [
    {
     "data": {
      "text/plain": [
       "(904296, 22)"
      ]
     },
     "execution_count": 17,
     "metadata": {},
     "output_type": "execute_result"
    }
   ],
   "source": [
    "X_train_std.shape"
   ]
  },
  {
   "cell_type": "code",
   "execution_count": 18,
   "id": "1b495946-32a1-4ddb-8235-f2d925af9109",
   "metadata": {},
   "outputs": [],
   "source": [
    "X_test_std=pd.DataFrame(preprocessing_pipeline.fit_transform(X_test,y_test))"
   ]
  },
  {
   "cell_type": "code",
   "execution_count": 19,
   "id": "a3f391ec-2272-48e4-9356-ac5e96b5b9ef",
   "metadata": {},
   "outputs": [
    {
     "data": {
      "text/plain": [
       "(226074, 22)"
      ]
     },
     "execution_count": 19,
     "metadata": {},
     "output_type": "execute_result"
    }
   ],
   "source": [
    "X_test_std.shape"
   ]
  },
  {
   "cell_type": "markdown",
   "id": "9ae2436c-4a50-4416-8ffb-41ca35ffa10c",
   "metadata": {},
   "source": [
    "# Logistic Regression"
   ]
  },
  {
   "cell_type": "code",
   "execution_count": null,
   "id": "6a2743e7-0d9e-492b-b688-9189e0b05ccb",
   "metadata": {},
   "outputs": [],
   "source": [
    "lr = LogisticRegression(random_state=2022)"
   ]
  },
  {
   "cell_type": "code",
   "execution_count": null,
   "id": "ab708fae-3b83-4b31-96b9-1905b5772459",
   "metadata": {},
   "outputs": [],
   "source": [
    "penalty = ['l1', 'l2','elasticnet']\n",
    "solver = ['newton-cg', 'lbfgs', 'liblinear', 'sag', 'saga']"
   ]
  },
  {
   "cell_type": "code",
   "execution_count": null,
   "id": "2b569c5e-8256-4e6c-8551-385dffe3889f",
   "metadata": {},
   "outputs": [],
   "source": [
    "parameter_lr = dict(penalty=penalty, solver=solver)"
   ]
  },
  {
   "cell_type": "code",
   "execution_count": null,
   "id": "24645155-7558-4c38-b3eb-10d0f6c5a214",
   "metadata": {},
   "outputs": [],
   "source": [
    "lr_random = RandomizedSearchCV( estimator = lr, param_distributions = parameter_lr, n_iter=20, n_jobs=-1,random_state=2022)"
   ]
  },
  {
   "cell_type": "code",
   "execution_count": null,
   "id": "a23bc335-2f8e-4402-b390-d1a2fa5621d3",
   "metadata": {},
   "outputs": [
    {
     "name": "stderr",
     "output_type": "stream",
     "text": [
      "C:\\Users\\prabhakaran.p\\Anaconda3\\lib\\site-packages\\sklearn\\model_selection\\_search.py:292: UserWarning: The total space of parameters 15 is smaller than n_iter=20. Running 15 iterations. For exhaustive searches, use GridSearchCV.\n",
      "  warnings.warn(\n",
      "C:\\Users\\prabhakaran.p\\Anaconda3\\lib\\site-packages\\sklearn\\model_selection\\_validation.py:372: FitFailedWarning: \n",
      "40 fits failed out of a total of 75.\n",
      "The score on these train-test partitions for these parameters will be set to nan.\n",
      "If these failures are not expected, you can try to debug them by setting error_score='raise'.\n",
      "\n",
      "Below are more details about the failures:\n",
      "--------------------------------------------------------------------------------\n",
      "5 fits failed with the following error:\n",
      "Traceback (most recent call last):\n",
      "  File \"C:\\Users\\prabhakaran.p\\Anaconda3\\lib\\site-packages\\sklearn\\model_selection\\_validation.py\", line 680, in _fit_and_score\n",
      "    estimator.fit(X_train, y_train, **fit_params)\n",
      "  File \"C:\\Users\\prabhakaran.p\\Anaconda3\\lib\\site-packages\\sklearn\\linear_model\\_logistic.py\", line 1461, in fit\n",
      "    solver = _check_solver(self.solver, self.penalty, self.dual)\n",
      "  File \"C:\\Users\\prabhakaran.p\\Anaconda3\\lib\\site-packages\\sklearn\\linear_model\\_logistic.py\", line 447, in _check_solver\n",
      "    raise ValueError(\n",
      "ValueError: Solver newton-cg supports only 'l2' or 'none' penalties, got l1 penalty.\n",
      "\n",
      "--------------------------------------------------------------------------------\n",
      "5 fits failed with the following error:\n",
      "Traceback (most recent call last):\n",
      "  File \"C:\\Users\\prabhakaran.p\\Anaconda3\\lib\\site-packages\\sklearn\\model_selection\\_validation.py\", line 680, in _fit_and_score\n",
      "    estimator.fit(X_train, y_train, **fit_params)\n",
      "  File \"C:\\Users\\prabhakaran.p\\Anaconda3\\lib\\site-packages\\sklearn\\linear_model\\_logistic.py\", line 1461, in fit\n",
      "    solver = _check_solver(self.solver, self.penalty, self.dual)\n",
      "  File \"C:\\Users\\prabhakaran.p\\Anaconda3\\lib\\site-packages\\sklearn\\linear_model\\_logistic.py\", line 447, in _check_solver\n",
      "    raise ValueError(\n",
      "ValueError: Solver lbfgs supports only 'l2' or 'none' penalties, got l1 penalty.\n",
      "\n",
      "--------------------------------------------------------------------------------\n",
      "5 fits failed with the following error:\n",
      "Traceback (most recent call last):\n",
      "  File \"C:\\Users\\prabhakaran.p\\Anaconda3\\lib\\site-packages\\sklearn\\model_selection\\_validation.py\", line 680, in _fit_and_score\n",
      "    estimator.fit(X_train, y_train, **fit_params)\n",
      "  File \"C:\\Users\\prabhakaran.p\\Anaconda3\\lib\\site-packages\\sklearn\\linear_model\\_logistic.py\", line 1461, in fit\n",
      "    solver = _check_solver(self.solver, self.penalty, self.dual)\n",
      "  File \"C:\\Users\\prabhakaran.p\\Anaconda3\\lib\\site-packages\\sklearn\\linear_model\\_logistic.py\", line 447, in _check_solver\n",
      "    raise ValueError(\n",
      "ValueError: Solver sag supports only 'l2' or 'none' penalties, got l1 penalty.\n",
      "\n",
      "--------------------------------------------------------------------------------\n",
      "5 fits failed with the following error:\n",
      "Traceback (most recent call last):\n",
      "  File \"C:\\Users\\prabhakaran.p\\Anaconda3\\lib\\site-packages\\sklearn\\model_selection\\_validation.py\", line 680, in _fit_and_score\n",
      "    estimator.fit(X_train, y_train, **fit_params)\n",
      "  File \"C:\\Users\\prabhakaran.p\\Anaconda3\\lib\\site-packages\\sklearn\\linear_model\\_logistic.py\", line 1461, in fit\n",
      "    solver = _check_solver(self.solver, self.penalty, self.dual)\n",
      "  File \"C:\\Users\\prabhakaran.p\\Anaconda3\\lib\\site-packages\\sklearn\\linear_model\\_logistic.py\", line 447, in _check_solver\n",
      "    raise ValueError(\n",
      "ValueError: Solver newton-cg supports only 'l2' or 'none' penalties, got elasticnet penalty.\n",
      "\n",
      "--------------------------------------------------------------------------------\n",
      "5 fits failed with the following error:\n",
      "Traceback (most recent call last):\n",
      "  File \"C:\\Users\\prabhakaran.p\\Anaconda3\\lib\\site-packages\\sklearn\\model_selection\\_validation.py\", line 680, in _fit_and_score\n",
      "    estimator.fit(X_train, y_train, **fit_params)\n",
      "  File \"C:\\Users\\prabhakaran.p\\Anaconda3\\lib\\site-packages\\sklearn\\linear_model\\_logistic.py\", line 1461, in fit\n",
      "    solver = _check_solver(self.solver, self.penalty, self.dual)\n",
      "  File \"C:\\Users\\prabhakaran.p\\Anaconda3\\lib\\site-packages\\sklearn\\linear_model\\_logistic.py\", line 447, in _check_solver\n",
      "    raise ValueError(\n",
      "ValueError: Solver lbfgs supports only 'l2' or 'none' penalties, got elasticnet penalty.\n",
      "\n",
      "--------------------------------------------------------------------------------\n",
      "5 fits failed with the following error:\n",
      "Traceback (most recent call last):\n",
      "  File \"C:\\Users\\prabhakaran.p\\Anaconda3\\lib\\site-packages\\sklearn\\model_selection\\_validation.py\", line 680, in _fit_and_score\n",
      "    estimator.fit(X_train, y_train, **fit_params)\n",
      "  File \"C:\\Users\\prabhakaran.p\\Anaconda3\\lib\\site-packages\\sklearn\\linear_model\\_logistic.py\", line 1461, in fit\n",
      "    solver = _check_solver(self.solver, self.penalty, self.dual)\n",
      "  File \"C:\\Users\\prabhakaran.p\\Anaconda3\\lib\\site-packages\\sklearn\\linear_model\\_logistic.py\", line 457, in _check_solver\n",
      "    raise ValueError(\n",
      "ValueError: Only 'saga' solver supports elasticnet penalty, got solver=liblinear.\n",
      "\n",
      "--------------------------------------------------------------------------------\n",
      "5 fits failed with the following error:\n",
      "Traceback (most recent call last):\n",
      "  File \"C:\\Users\\prabhakaran.p\\Anaconda3\\lib\\site-packages\\sklearn\\model_selection\\_validation.py\", line 680, in _fit_and_score\n",
      "    estimator.fit(X_train, y_train, **fit_params)\n",
      "  File \"C:\\Users\\prabhakaran.p\\Anaconda3\\lib\\site-packages\\sklearn\\linear_model\\_logistic.py\", line 1461, in fit\n",
      "    solver = _check_solver(self.solver, self.penalty, self.dual)\n",
      "  File \"C:\\Users\\prabhakaran.p\\Anaconda3\\lib\\site-packages\\sklearn\\linear_model\\_logistic.py\", line 447, in _check_solver\n",
      "    raise ValueError(\n",
      "ValueError: Solver sag supports only 'l2' or 'none' penalties, got elasticnet penalty.\n",
      "\n",
      "--------------------------------------------------------------------------------\n",
      "5 fits failed with the following error:\n",
      "Traceback (most recent call last):\n",
      "  File \"C:\\Users\\prabhakaran.p\\Anaconda3\\lib\\site-packages\\sklearn\\model_selection\\_validation.py\", line 680, in _fit_and_score\n",
      "    estimator.fit(X_train, y_train, **fit_params)\n",
      "  File \"C:\\Users\\prabhakaran.p\\Anaconda3\\lib\\site-packages\\sklearn\\linear_model\\_logistic.py\", line 1471, in fit\n",
      "    raise ValueError(\n",
      "ValueError: l1_ratio must be between 0 and 1; got (l1_ratio=None)\n",
      "\n",
      "  warnings.warn(some_fits_failed_message, FitFailedWarning)\n",
      "C:\\Users\\prabhakaran.p\\Anaconda3\\lib\\site-packages\\sklearn\\model_selection\\_search.py:969: UserWarning: One or more of the test scores are non-finite: [       nan        nan 0.83222639        nan 0.83223303 0.83221976\n",
      " 0.83218327 0.83222529 0.83222197 0.83221976        nan        nan\n",
      "        nan        nan        nan]\n",
      "  warnings.warn(\n"
     ]
    },
    {
     "data": {
      "text/plain": [
       "RandomizedSearchCV(estimator=LogisticRegression(random_state=2022), n_iter=20,\n",
       "                   n_jobs=-1,\n",
       "                   param_distributions={'penalty': ['l1', 'l2', 'elasticnet'],\n",
       "                                        'solver': ['newton-cg', 'lbfgs',\n",
       "                                                   'liblinear', 'sag',\n",
       "                                                   'saga']},\n",
       "                   random_state=2022)"
      ]
     },
     "execution_count": 24,
     "metadata": {},
     "output_type": "execute_result"
    }
   ],
   "source": [
    "lr_random.fit(X_train_std, y_train)"
   ]
  },
  {
   "cell_type": "code",
   "execution_count": null,
   "id": "a08761a9-41ae-436a-b41e-5fdd9defab07",
   "metadata": {},
   "outputs": [],
   "source": [
    "y_pred=lr_random.predict(X_test_std)"
   ]
  },
  {
   "cell_type": "code",
   "execution_count": null,
   "id": "0d23bb26-d63d-443c-9c10-4b08197d058e",
   "metadata": {},
   "outputs": [
    {
     "data": {
      "text/plain": [
       "(226074,)"
      ]
     },
     "execution_count": 44,
     "metadata": {},
     "output_type": "execute_result"
    }
   ],
   "source": [
    "y_pred.shape"
   ]
  },
  {
   "cell_type": "code",
   "execution_count": null,
   "id": "28b64d3b-5d46-48b3-8e01-b74ec7d0cb16",
   "metadata": {},
   "outputs": [
    {
     "data": {
      "text/html": [
       "<div>\n",
       "<style scoped>\n",
       "    .dataframe tbody tr th:only-of-type {\n",
       "        vertical-align: middle;\n",
       "    }\n",
       "\n",
       "    .dataframe tbody tr th {\n",
       "        vertical-align: top;\n",
       "    }\n",
       "\n",
       "    .dataframe thead th {\n",
       "        text-align: right;\n",
       "    }\n",
       "</style>\n",
       "<table border=\"1\" class=\"dataframe\">\n",
       "  <thead>\n",
       "    <tr style=\"text-align: right;\">\n",
       "      <th>col_0</th>\n",
       "      <th>0</th>\n",
       "      <th>1</th>\n",
       "    </tr>\n",
       "    <tr>\n",
       "      <th>click</th>\n",
       "      <th></th>\n",
       "      <th></th>\n",
       "    </tr>\n",
       "  </thead>\n",
       "  <tbody>\n",
       "    <tr>\n",
       "      <th>0</th>\n",
       "      <td>184759</td>\n",
       "      <td>2858</td>\n",
       "    </tr>\n",
       "    <tr>\n",
       "      <th>1</th>\n",
       "      <td>35444</td>\n",
       "      <td>3013</td>\n",
       "    </tr>\n",
       "  </tbody>\n",
       "</table>\n",
       "</div>"
      ],
      "text/plain": [
       "col_0       0     1\n",
       "click              \n",
       "0      184759  2858\n",
       "1       35444  3013"
      ]
     },
     "execution_count": 45,
     "metadata": {},
     "output_type": "execute_result"
    }
   ],
   "source": [
    "pd.crosstab(y_test,lr_random.predict(X_test_std))"
   ]
  },
  {
   "cell_type": "code",
   "execution_count": null,
   "id": "c14373f1-5385-4cc3-9c89-a8864d45ca59",
   "metadata": {},
   "outputs": [],
   "source": [
    "from sklearn.metrics import accuracy_score"
   ]
  },
  {
   "cell_type": "code",
   "execution_count": null,
   "id": "566389f1-432d-4ac6-a291-d757519ff144",
   "metadata": {},
   "outputs": [
    {
     "data": {
      "text/plain": [
       "0.8305775984854517"
      ]
     },
     "execution_count": 47,
     "metadata": {},
     "output_type": "execute_result"
    }
   ],
   "source": [
    "accuracy_score(y_test,y_pred)"
   ]
  },
  {
   "cell_type": "code",
   "execution_count": null,
   "id": "d3911e07-9b5a-4ced-9403-155d29eb2c38",
   "metadata": {},
   "outputs": [
    {
     "data": {
      "text/plain": [
       "0.07834724497490704"
      ]
     },
     "execution_count": 48,
     "metadata": {},
     "output_type": "execute_result"
    }
   ],
   "source": [
    "recall_score(y_test,y_pred)"
   ]
  },
  {
   "cell_type": "code",
   "execution_count": null,
   "id": "2db4e42b-ef83-480e-92b0-6e285dd9dbd3",
   "metadata": {},
   "outputs": [
    {
     "data": {
      "text/plain": [
       "0.5132004769204564"
      ]
     },
     "execution_count": 49,
     "metadata": {},
     "output_type": "execute_result"
    }
   ],
   "source": [
    "precision_score(y_test,y_pred)"
   ]
  },
  {
   "cell_type": "markdown",
   "id": "ff264caa-be1b-44bb-8e60-a46d9f962d80",
   "metadata": {},
   "source": [
    "# Gaussian Naive bayes classifier"
   ]
  },
  {
   "cell_type": "code",
   "execution_count": 82,
   "id": "495246b5-e187-4e3a-bc12-1d8b04a726eb",
   "metadata": {},
   "outputs": [],
   "source": [
    "from sklearn.inspection import permutation_importance"
   ]
  },
  {
   "cell_type": "code",
   "execution_count": 83,
   "id": "5b7bbb7c-17b4-4f4e-be8a-e84b3e31b624",
   "metadata": {},
   "outputs": [],
   "source": [
    "from sklearn.model_selection import RepeatedStratifiedKFold"
   ]
  },
  {
   "cell_type": "code",
   "execution_count": 84,
   "id": "ef754125-19e7-43a9-8d95-855e2ca650f8",
   "metadata": {},
   "outputs": [],
   "source": [
    "from sklearn.naive_bayes import GaussianNB\n",
    "gnb = GaussianNB()"
   ]
  },
  {
   "cell_type": "code",
   "execution_count": 85,
   "id": "0f20d3f8-7b5b-41ed-b0ea-da2e74079db5",
   "metadata": {},
   "outputs": [],
   "source": [
    "fm_gn=gnb.fit(X_train_std, y_train)"
   ]
  },
  {
   "cell_type": "code",
   "execution_count": 86,
   "id": "cc63bb13-1b6d-4bcd-bfcc-2ea4ec955f2d",
   "metadata": {},
   "outputs": [],
   "source": [
    "y_predi=gnb.predict(X_test_std)"
   ]
  },
  {
   "cell_type": "code",
   "execution_count": 87,
   "id": "b03e5cae-7226-4987-830e-0ed55294171c",
   "metadata": {},
   "outputs": [
    {
     "data": {
      "text/html": [
       "<div>\n",
       "<style scoped>\n",
       "    .dataframe tbody tr th:only-of-type {\n",
       "        vertical-align: middle;\n",
       "    }\n",
       "\n",
       "    .dataframe tbody tr th {\n",
       "        vertical-align: top;\n",
       "    }\n",
       "\n",
       "    .dataframe thead th {\n",
       "        text-align: right;\n",
       "    }\n",
       "</style>\n",
       "<table border=\"1\" class=\"dataframe\">\n",
       "  <thead>\n",
       "    <tr style=\"text-align: right;\">\n",
       "      <th>col_0</th>\n",
       "      <th>0</th>\n",
       "      <th>1</th>\n",
       "    </tr>\n",
       "    <tr>\n",
       "      <th>click</th>\n",
       "      <th></th>\n",
       "      <th></th>\n",
       "    </tr>\n",
       "  </thead>\n",
       "  <tbody>\n",
       "    <tr>\n",
       "      <th>0</th>\n",
       "      <td>155872</td>\n",
       "      <td>31745</td>\n",
       "    </tr>\n",
       "    <tr>\n",
       "      <th>1</th>\n",
       "      <td>23789</td>\n",
       "      <td>14668</td>\n",
       "    </tr>\n",
       "  </tbody>\n",
       "</table>\n",
       "</div>"
      ],
      "text/plain": [
       "col_0       0      1\n",
       "click               \n",
       "0      155872  31745\n",
       "1       23789  14668"
      ]
     },
     "execution_count": 87,
     "metadata": {},
     "output_type": "execute_result"
    }
   ],
   "source": [
    "pd.crosstab(y_test,y_predi)"
   ]
  },
  {
   "cell_type": "code",
   "execution_count": 88,
   "id": "7e27e322-136b-4ce6-bae0-33ae33c9a998",
   "metadata": {},
   "outputs": [
    {
     "data": {
      "text/plain": [
       "array([-0.00022647, -0.00150305, -0.00147208, -0.00121288, -0.00688182,\n",
       "        0.00057769,  0.00031052,  0.01510921, -0.00038571, -0.00143847,\n",
       "       -0.00323611, -0.00060069, -0.00269204,  0.0069119 ,  0.00685793,\n",
       "       -0.00329538, -0.00839371, -0.01260649, -0.00970302,  0.00337854,\n",
       "        0.00101737, -0.00539204])"
      ]
     },
     "execution_count": 88,
     "metadata": {},
     "output_type": "execute_result"
    }
   ],
   "source": [
    "imps = permutation_importance(fm_gn, X_test_std, y_test)\n",
    "imps.importances_mean"
   ]
  },
  {
   "cell_type": "code",
   "execution_count": 89,
   "id": "5ff720e9-e991-4756-8dc8-5d5c1e20987d",
   "metadata": {},
   "outputs": [
    {
     "data": {
      "text/plain": [
       "0.7543547687925193"
      ]
     },
     "execution_count": 89,
     "metadata": {},
     "output_type": "execute_result"
    }
   ],
   "source": [
    "accuracy_score(y_test,y_predi)"
   ]
  },
  {
   "cell_type": "code",
   "execution_count": 90,
   "id": "05420465-2f89-46ff-a077-58bd51237dea",
   "metadata": {},
   "outputs": [
    {
     "data": {
      "text/plain": [
       "0.3814130067347947"
      ]
     },
     "execution_count": 90,
     "metadata": {},
     "output_type": "execute_result"
    }
   ],
   "source": [
    "recall_score(y_test,y_predi)"
   ]
  },
  {
   "cell_type": "code",
   "execution_count": 91,
   "id": "f6379c29-df2b-45a0-a077-431ba16b99e9",
   "metadata": {},
   "outputs": [
    {
     "data": {
      "text/plain": [
       "0.3160321461659449"
      ]
     },
     "execution_count": 91,
     "metadata": {},
     "output_type": "execute_result"
    }
   ],
   "source": [
    "precision_score(y_test,y_predi)"
   ]
  },
  {
   "cell_type": "code",
   "execution_count": 92,
   "id": "02e63003-8a82-4dcc-81a9-f56a2476eebd",
   "metadata": {},
   "outputs": [
    {
     "name": "stdout",
     "output_type": "stream",
     "text": [
      "              precision    recall  f1-score   support\n",
      "\n",
      "           0       0.87      0.83      0.85    187617\n",
      "           1       0.32      0.38      0.35     38457\n",
      "\n",
      "    accuracy                           0.75    226074\n",
      "   macro avg       0.59      0.61      0.60    226074\n",
      "weighted avg       0.77      0.75      0.76    226074\n",
      "\n"
     ]
    }
   ],
   "source": [
    "print(metrics.classification_report(y_test,gnb.predict(X_test_std)))"
   ]
  }
 ],
 "metadata": {
  "kernelspec": {
   "display_name": "Python 3 (ipykernel)",
   "language": "python",
   "name": "python3"
  },
  "language_info": {
   "codemirror_mode": {
    "name": "ipython",
    "version": 3
   },
   "file_extension": ".py",
   "mimetype": "text/x-python",
   "name": "python",
   "nbconvert_exporter": "python",
   "pygments_lexer": "ipython3",
   "version": "3.9.12"
  }
 },
 "nbformat": 4,
 "nbformat_minor": 5
}
