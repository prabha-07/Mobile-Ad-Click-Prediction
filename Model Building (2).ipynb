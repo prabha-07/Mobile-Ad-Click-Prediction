{
 "cells": [
  {
   "cell_type": "markdown",
   "id": "6a65259c-2208-4fde-9201-9d8fddf9fd2b",
   "metadata": {},
   "source": [
    "#  Sample-1 Model Building"
   ]
  },
  {
   "cell_type": "code",
   "execution_count": 4,
   "id": "b2d281a7-8c85-417a-8f55-c9cd95b47b91",
   "metadata": {},
   "outputs": [],
   "source": [
    "from random import random,seed\n",
    "seed(42)\n",
    "SAMPLE_SIZE=0.012345\n",
    "da=pd.read_csv('train.csv', skiprows=lambda x: random() > SAMPLE_SIZE)"
   ]
  },
  {
   "cell_type": "code",
   "execution_count": 5,
   "id": "b269edef-1dc2-4077-9667-d627eeb7c726",
   "metadata": {},
   "outputs": [
    {
     "data": {
      "text/html": [
       "<div>\n",
       "<style scoped>\n",
       "    .dataframe tbody tr th:only-of-type {\n",
       "        vertical-align: middle;\n",
       "    }\n",
       "\n",
       "    .dataframe tbody tr th {\n",
       "        vertical-align: top;\n",
       "    }\n",
       "\n",
       "    .dataframe thead th {\n",
       "        text-align: right;\n",
       "    }\n",
       "</style>\n",
       "<table border=\"1\" class=\"dataframe\">\n",
       "  <thead>\n",
       "    <tr style=\"text-align: right;\">\n",
       "      <th></th>\n",
       "      <th>10004181428767727519</th>\n",
       "      <th>0</th>\n",
       "      <th>14102100</th>\n",
       "      <th>1005</th>\n",
       "      <th>1</th>\n",
       "      <th>0c2fe9d6</th>\n",
       "      <th>27e3c518</th>\n",
       "      <th>28905ebd</th>\n",
       "      <th>ecad2386</th>\n",
       "      <th>7801e8d9</th>\n",
       "      <th>...</th>\n",
       "      <th>1.1</th>\n",
       "      <th>0.1</th>\n",
       "      <th>6558</th>\n",
       "      <th>320</th>\n",
       "      <th>50</th>\n",
       "      <th>571</th>\n",
       "      <th>2</th>\n",
       "      <th>39</th>\n",
       "      <th>-1</th>\n",
       "      <th>32</th>\n",
       "    </tr>\n",
       "  </thead>\n",
       "  <tbody>\n",
       "    <tr>\n",
       "      <th>0</th>\n",
       "      <td>10015745448500295401</td>\n",
       "      <td>0</td>\n",
       "      <td>14102100</td>\n",
       "      <td>1005</td>\n",
       "      <td>0</td>\n",
       "      <td>1fbe01fe</td>\n",
       "      <td>f3845767</td>\n",
       "      <td>28905ebd</td>\n",
       "      <td>ecad2386</td>\n",
       "      <td>7801e8d9</td>\n",
       "      <td>...</td>\n",
       "      <td>1</td>\n",
       "      <td>0</td>\n",
       "      <td>15701</td>\n",
       "      <td>320</td>\n",
       "      <td>50</td>\n",
       "      <td>1722</td>\n",
       "      <td>0</td>\n",
       "      <td>35</td>\n",
       "      <td>-1</td>\n",
       "      <td>79</td>\n",
       "    </tr>\n",
       "    <tr>\n",
       "      <th>1</th>\n",
       "      <td>10017994765842027302</td>\n",
       "      <td>0</td>\n",
       "      <td>14102100</td>\n",
       "      <td>1005</td>\n",
       "      <td>0</td>\n",
       "      <td>1fbe01fe</td>\n",
       "      <td>f3845767</td>\n",
       "      <td>28905ebd</td>\n",
       "      <td>ecad2386</td>\n",
       "      <td>7801e8d9</td>\n",
       "      <td>...</td>\n",
       "      <td>1</td>\n",
       "      <td>0</td>\n",
       "      <td>15707</td>\n",
       "      <td>320</td>\n",
       "      <td>50</td>\n",
       "      <td>1722</td>\n",
       "      <td>0</td>\n",
       "      <td>35</td>\n",
       "      <td>-1</td>\n",
       "      <td>79</td>\n",
       "    </tr>\n",
       "    <tr>\n",
       "      <th>2</th>\n",
       "      <td>10039696069275453092</td>\n",
       "      <td>0</td>\n",
       "      <td>14102100</td>\n",
       "      <td>1005</td>\n",
       "      <td>0</td>\n",
       "      <td>5b08c53b</td>\n",
       "      <td>7687a86e</td>\n",
       "      <td>3e814130</td>\n",
       "      <td>ecad2386</td>\n",
       "      <td>7801e8d9</td>\n",
       "      <td>...</td>\n",
       "      <td>1</td>\n",
       "      <td>0</td>\n",
       "      <td>17654</td>\n",
       "      <td>300</td>\n",
       "      <td>250</td>\n",
       "      <td>1994</td>\n",
       "      <td>2</td>\n",
       "      <td>39</td>\n",
       "      <td>-1</td>\n",
       "      <td>33</td>\n",
       "    </tr>\n",
       "    <tr>\n",
       "      <th>3</th>\n",
       "      <td>1004326673744329635</td>\n",
       "      <td>0</td>\n",
       "      <td>14102100</td>\n",
       "      <td>1005</td>\n",
       "      <td>0</td>\n",
       "      <td>543a539e</td>\n",
       "      <td>c7ca3108</td>\n",
       "      <td>3e814130</td>\n",
       "      <td>ecad2386</td>\n",
       "      <td>7801e8d9</td>\n",
       "      <td>...</td>\n",
       "      <td>1</td>\n",
       "      <td>0</td>\n",
       "      <td>20362</td>\n",
       "      <td>320</td>\n",
       "      <td>50</td>\n",
       "      <td>2333</td>\n",
       "      <td>0</td>\n",
       "      <td>39</td>\n",
       "      <td>-1</td>\n",
       "      <td>157</td>\n",
       "    </tr>\n",
       "    <tr>\n",
       "      <th>4</th>\n",
       "      <td>1004402950134038739</td>\n",
       "      <td>0</td>\n",
       "      <td>14102100</td>\n",
       "      <td>1005</td>\n",
       "      <td>0</td>\n",
       "      <td>1fbe01fe</td>\n",
       "      <td>f3845767</td>\n",
       "      <td>28905ebd</td>\n",
       "      <td>ecad2386</td>\n",
       "      <td>7801e8d9</td>\n",
       "      <td>...</td>\n",
       "      <td>1</td>\n",
       "      <td>0</td>\n",
       "      <td>15705</td>\n",
       "      <td>320</td>\n",
       "      <td>50</td>\n",
       "      <td>1722</td>\n",
       "      <td>0</td>\n",
       "      <td>35</td>\n",
       "      <td>-1</td>\n",
       "      <td>79</td>\n",
       "    </tr>\n",
       "    <tr>\n",
       "      <th>...</th>\n",
       "      <td>...</td>\n",
       "      <td>...</td>\n",
       "      <td>...</td>\n",
       "      <td>...</td>\n",
       "      <td>...</td>\n",
       "      <td>...</td>\n",
       "      <td>...</td>\n",
       "      <td>...</td>\n",
       "      <td>...</td>\n",
       "      <td>...</td>\n",
       "      <td>...</td>\n",
       "      <td>...</td>\n",
       "      <td>...</td>\n",
       "      <td>...</td>\n",
       "      <td>...</td>\n",
       "      <td>...</td>\n",
       "      <td>...</td>\n",
       "      <td>...</td>\n",
       "      <td>...</td>\n",
       "      <td>...</td>\n",
       "      <td>...</td>\n",
       "    </tr>\n",
       "    <tr>\n",
       "      <th>497529</th>\n",
       "      <td>9970111991550303898</td>\n",
       "      <td>0</td>\n",
       "      <td>14103023</td>\n",
       "      <td>1005</td>\n",
       "      <td>0</td>\n",
       "      <td>85f751fd</td>\n",
       "      <td>c4e18dd6</td>\n",
       "      <td>50e219e0</td>\n",
       "      <td>9c13b419</td>\n",
       "      <td>2347f47a</td>\n",
       "      <td>...</td>\n",
       "      <td>1</td>\n",
       "      <td>0</td>\n",
       "      <td>23160</td>\n",
       "      <td>320</td>\n",
       "      <td>50</td>\n",
       "      <td>2667</td>\n",
       "      <td>0</td>\n",
       "      <td>47</td>\n",
       "      <td>-1</td>\n",
       "      <td>221</td>\n",
       "    </tr>\n",
       "    <tr>\n",
       "      <th>497530</th>\n",
       "      <td>9971964261524117498</td>\n",
       "      <td>0</td>\n",
       "      <td>14103023</td>\n",
       "      <td>1005</td>\n",
       "      <td>0</td>\n",
       "      <td>1fbe01fe</td>\n",
       "      <td>f3845767</td>\n",
       "      <td>28905ebd</td>\n",
       "      <td>ecad2386</td>\n",
       "      <td>7801e8d9</td>\n",
       "      <td>...</td>\n",
       "      <td>1</td>\n",
       "      <td>0</td>\n",
       "      <td>15701</td>\n",
       "      <td>320</td>\n",
       "      <td>50</td>\n",
       "      <td>1722</td>\n",
       "      <td>0</td>\n",
       "      <td>35</td>\n",
       "      <td>-1</td>\n",
       "      <td>79</td>\n",
       "    </tr>\n",
       "    <tr>\n",
       "      <th>497531</th>\n",
       "      <td>997225830558183390</td>\n",
       "      <td>0</td>\n",
       "      <td>14103023</td>\n",
       "      <td>1005</td>\n",
       "      <td>0</td>\n",
       "      <td>1fbe01fe</td>\n",
       "      <td>f3845767</td>\n",
       "      <td>28905ebd</td>\n",
       "      <td>ecad2386</td>\n",
       "      <td>7801e8d9</td>\n",
       "      <td>...</td>\n",
       "      <td>1</td>\n",
       "      <td>0</td>\n",
       "      <td>22676</td>\n",
       "      <td>320</td>\n",
       "      <td>50</td>\n",
       "      <td>2616</td>\n",
       "      <td>0</td>\n",
       "      <td>35</td>\n",
       "      <td>100083</td>\n",
       "      <td>51</td>\n",
       "    </tr>\n",
       "    <tr>\n",
       "      <th>497532</th>\n",
       "      <td>9978195739843146297</td>\n",
       "      <td>0</td>\n",
       "      <td>14103023</td>\n",
       "      <td>1005</td>\n",
       "      <td>0</td>\n",
       "      <td>85f751fd</td>\n",
       "      <td>c4e18dd6</td>\n",
       "      <td>50e219e0</td>\n",
       "      <td>7e7baafa</td>\n",
       "      <td>2347f47a</td>\n",
       "      <td>...</td>\n",
       "      <td>1</td>\n",
       "      <td>0</td>\n",
       "      <td>23866</td>\n",
       "      <td>320</td>\n",
       "      <td>50</td>\n",
       "      <td>2736</td>\n",
       "      <td>0</td>\n",
       "      <td>33</td>\n",
       "      <td>100170</td>\n",
       "      <td>246</td>\n",
       "    </tr>\n",
       "    <tr>\n",
       "      <th>497533</th>\n",
       "      <td>9997781251272087830</td>\n",
       "      <td>0</td>\n",
       "      <td>14103023</td>\n",
       "      <td>1005</td>\n",
       "      <td>0</td>\n",
       "      <td>85f751fd</td>\n",
       "      <td>c4e18dd6</td>\n",
       "      <td>50e219e0</td>\n",
       "      <td>7e7baafa</td>\n",
       "      <td>2347f47a</td>\n",
       "      <td>...</td>\n",
       "      <td>1</td>\n",
       "      <td>0</td>\n",
       "      <td>23866</td>\n",
       "      <td>320</td>\n",
       "      <td>50</td>\n",
       "      <td>2736</td>\n",
       "      <td>0</td>\n",
       "      <td>33</td>\n",
       "      <td>100170</td>\n",
       "      <td>246</td>\n",
       "    </tr>\n",
       "  </tbody>\n",
       "</table>\n",
       "<p>497534 rows × 24 columns</p>\n",
       "</div>"
      ],
      "text/plain": [
       "        10004181428767727519  0  14102100  1005  1  0c2fe9d6  27e3c518  \\\n",
       "0       10015745448500295401  0  14102100  1005  0  1fbe01fe  f3845767   \n",
       "1       10017994765842027302  0  14102100  1005  0  1fbe01fe  f3845767   \n",
       "2       10039696069275453092  0  14102100  1005  0  5b08c53b  7687a86e   \n",
       "3        1004326673744329635  0  14102100  1005  0  543a539e  c7ca3108   \n",
       "4        1004402950134038739  0  14102100  1005  0  1fbe01fe  f3845767   \n",
       "...                      ... ..       ...   ... ..       ...       ...   \n",
       "497529   9970111991550303898  0  14103023  1005  0  85f751fd  c4e18dd6   \n",
       "497530   9971964261524117498  0  14103023  1005  0  1fbe01fe  f3845767   \n",
       "497531    997225830558183390  0  14103023  1005  0  1fbe01fe  f3845767   \n",
       "497532   9978195739843146297  0  14103023  1005  0  85f751fd  c4e18dd6   \n",
       "497533   9997781251272087830  0  14103023  1005  0  85f751fd  c4e18dd6   \n",
       "\n",
       "        28905ebd  ecad2386  7801e8d9  ... 1.1 0.1   6558  320   50   571  2  \\\n",
       "0       28905ebd  ecad2386  7801e8d9  ...   1   0  15701  320   50  1722  0   \n",
       "1       28905ebd  ecad2386  7801e8d9  ...   1   0  15707  320   50  1722  0   \n",
       "2       3e814130  ecad2386  7801e8d9  ...   1   0  17654  300  250  1994  2   \n",
       "3       3e814130  ecad2386  7801e8d9  ...   1   0  20362  320   50  2333  0   \n",
       "4       28905ebd  ecad2386  7801e8d9  ...   1   0  15705  320   50  1722  0   \n",
       "...          ...       ...       ...  ...  ..  ..    ...  ...  ...   ... ..   \n",
       "497529  50e219e0  9c13b419  2347f47a  ...   1   0  23160  320   50  2667  0   \n",
       "497530  28905ebd  ecad2386  7801e8d9  ...   1   0  15701  320   50  1722  0   \n",
       "497531  28905ebd  ecad2386  7801e8d9  ...   1   0  22676  320   50  2616  0   \n",
       "497532  50e219e0  7e7baafa  2347f47a  ...   1   0  23866  320   50  2736  0   \n",
       "497533  50e219e0  7e7baafa  2347f47a  ...   1   0  23866  320   50  2736  0   \n",
       "\n",
       "        39      -1   32  \n",
       "0       35      -1   79  \n",
       "1       35      -1   79  \n",
       "2       39      -1   33  \n",
       "3       39      -1  157  \n",
       "4       35      -1   79  \n",
       "...     ..     ...  ...  \n",
       "497529  47      -1  221  \n",
       "497530  35      -1   79  \n",
       "497531  35  100083   51  \n",
       "497532  33  100170  246  \n",
       "497533  33  100170  246  \n",
       "\n",
       "[497534 rows x 24 columns]"
      ]
     },
     "execution_count": 5,
     "metadata": {},
     "output_type": "execute_result"
    }
   ],
   "source": [
    "da"
   ]
  },
  {
   "cell_type": "code",
   "execution_count": 6,
   "id": "37f4c47e-aae2-4e38-9f55-c35914162f4e",
   "metadata": {},
   "outputs": [
    {
     "data": {
      "text/plain": [
       "Index(['10004181428767727519', '0', '14102100', '1005', '1', '0c2fe9d6',\n",
       "       '27e3c518', '28905ebd', 'ecad2386', '7801e8d9', '07d7df22', 'a99f214a',\n",
       "       'b7a69808', '158e4944', '1.1', '0.1', '6558', '320', '50', '571', '2',\n",
       "       '39', '-1', '32'],\n",
       "      dtype='object')"
      ]
     },
     "execution_count": 6,
     "metadata": {},
     "output_type": "execute_result"
    }
   ],
   "source": [
    "da.columns"
   ]
  },
  {
   "cell_type": "code",
   "execution_count": 7,
   "id": "6479ed01-13b0-4e0d-a5ad-703a289b974e",
   "metadata": {},
   "outputs": [],
   "source": [
    "da.columns = ['id', 'click', 'hour', 'C1', 'banner_pos', 'site_id', 'site_domain',\n",
    "       'site_category', 'app_id', 'app_domain', 'app_category', 'device_id',\n",
    "       'device_ip', 'device_model', 'device_type', 'device_conn_type', 'C14',\n",
    "       'C15', 'C16', 'C17', 'C18', 'C19', 'C20', 'C21']"
   ]
  },
  {
   "cell_type": "code",
   "execution_count": 8,
   "id": "15120387-00a5-43f7-9d1c-bb4c35117987",
   "metadata": {},
   "outputs": [
    {
     "name": "stdout",
     "output_type": "stream",
     "text": [
      "<class 'pandas.core.frame.DataFrame'>\n",
      "RangeIndex: 497534 entries, 0 to 497533\n",
      "Data columns (total 24 columns):\n",
      " #   Column            Non-Null Count   Dtype \n",
      "---  ------            --------------   ----- \n",
      " 0   id                497534 non-null  uint64\n",
      " 1   click             497534 non-null  int64 \n",
      " 2   hour              497534 non-null  int64 \n",
      " 3   C1                497534 non-null  int64 \n",
      " 4   banner_pos        497534 non-null  int64 \n",
      " 5   site_id           497534 non-null  object\n",
      " 6   site_domain       497534 non-null  object\n",
      " 7   site_category     497534 non-null  object\n",
      " 8   app_id            497534 non-null  object\n",
      " 9   app_domain        497534 non-null  object\n",
      " 10  app_category      497534 non-null  object\n",
      " 11  device_id         497534 non-null  object\n",
      " 12  device_ip         497534 non-null  object\n",
      " 13  device_model      497534 non-null  object\n",
      " 14  device_type       497534 non-null  int64 \n",
      " 15  device_conn_type  497534 non-null  int64 \n",
      " 16  C14               497534 non-null  int64 \n",
      " 17  C15               497534 non-null  int64 \n",
      " 18  C16               497534 non-null  int64 \n",
      " 19  C17               497534 non-null  int64 \n",
      " 20  C18               497534 non-null  int64 \n",
      " 21  C19               497534 non-null  int64 \n",
      " 22  C20               497534 non-null  int64 \n",
      " 23  C21               497534 non-null  int64 \n",
      "dtypes: int64(14), object(9), uint64(1)\n",
      "memory usage: 91.1+ MB\n"
     ]
    }
   ],
   "source": [
    "da.info()"
   ]
  },
  {
   "cell_type": "code",
   "execution_count": 9,
   "id": "d8340b67-d677-4555-8296-2bbb65f77c15",
   "metadata": {},
   "outputs": [
    {
     "data": {
      "text/html": [
       "<div>\n",
       "<style scoped>\n",
       "    .dataframe tbody tr th:only-of-type {\n",
       "        vertical-align: middle;\n",
       "    }\n",
       "\n",
       "    .dataframe tbody tr th {\n",
       "        vertical-align: top;\n",
       "    }\n",
       "\n",
       "    .dataframe thead th {\n",
       "        text-align: right;\n",
       "    }\n",
       "</style>\n",
       "<table border=\"1\" class=\"dataframe\">\n",
       "  <thead>\n",
       "    <tr style=\"text-align: right;\">\n",
       "      <th></th>\n",
       "      <th>id</th>\n",
       "      <th>click</th>\n",
       "      <th>hour</th>\n",
       "      <th>C1</th>\n",
       "      <th>banner_pos</th>\n",
       "      <th>site_id</th>\n",
       "      <th>site_domain</th>\n",
       "      <th>site_category</th>\n",
       "      <th>app_id</th>\n",
       "      <th>app_domain</th>\n",
       "      <th>...</th>\n",
       "      <th>device_type</th>\n",
       "      <th>device_conn_type</th>\n",
       "      <th>C14</th>\n",
       "      <th>C15</th>\n",
       "      <th>C16</th>\n",
       "      <th>C17</th>\n",
       "      <th>C18</th>\n",
       "      <th>C19</th>\n",
       "      <th>C20</th>\n",
       "      <th>C21</th>\n",
       "    </tr>\n",
       "  </thead>\n",
       "  <tbody>\n",
       "    <tr>\n",
       "      <th>0</th>\n",
       "      <td>10015745448500295401</td>\n",
       "      <td>0</td>\n",
       "      <td>14102100</td>\n",
       "      <td>1005</td>\n",
       "      <td>0</td>\n",
       "      <td>1fbe01fe</td>\n",
       "      <td>f3845767</td>\n",
       "      <td>28905ebd</td>\n",
       "      <td>ecad2386</td>\n",
       "      <td>7801e8d9</td>\n",
       "      <td>...</td>\n",
       "      <td>1</td>\n",
       "      <td>0</td>\n",
       "      <td>15701</td>\n",
       "      <td>320</td>\n",
       "      <td>50</td>\n",
       "      <td>1722</td>\n",
       "      <td>0</td>\n",
       "      <td>35</td>\n",
       "      <td>-1</td>\n",
       "      <td>79</td>\n",
       "    </tr>\n",
       "    <tr>\n",
       "      <th>1</th>\n",
       "      <td>10017994765842027302</td>\n",
       "      <td>0</td>\n",
       "      <td>14102100</td>\n",
       "      <td>1005</td>\n",
       "      <td>0</td>\n",
       "      <td>1fbe01fe</td>\n",
       "      <td>f3845767</td>\n",
       "      <td>28905ebd</td>\n",
       "      <td>ecad2386</td>\n",
       "      <td>7801e8d9</td>\n",
       "      <td>...</td>\n",
       "      <td>1</td>\n",
       "      <td>0</td>\n",
       "      <td>15707</td>\n",
       "      <td>320</td>\n",
       "      <td>50</td>\n",
       "      <td>1722</td>\n",
       "      <td>0</td>\n",
       "      <td>35</td>\n",
       "      <td>-1</td>\n",
       "      <td>79</td>\n",
       "    </tr>\n",
       "    <tr>\n",
       "      <th>2</th>\n",
       "      <td>10039696069275453092</td>\n",
       "      <td>0</td>\n",
       "      <td>14102100</td>\n",
       "      <td>1005</td>\n",
       "      <td>0</td>\n",
       "      <td>5b08c53b</td>\n",
       "      <td>7687a86e</td>\n",
       "      <td>3e814130</td>\n",
       "      <td>ecad2386</td>\n",
       "      <td>7801e8d9</td>\n",
       "      <td>...</td>\n",
       "      <td>1</td>\n",
       "      <td>0</td>\n",
       "      <td>17654</td>\n",
       "      <td>300</td>\n",
       "      <td>250</td>\n",
       "      <td>1994</td>\n",
       "      <td>2</td>\n",
       "      <td>39</td>\n",
       "      <td>-1</td>\n",
       "      <td>33</td>\n",
       "    </tr>\n",
       "    <tr>\n",
       "      <th>3</th>\n",
       "      <td>1004326673744329635</td>\n",
       "      <td>0</td>\n",
       "      <td>14102100</td>\n",
       "      <td>1005</td>\n",
       "      <td>0</td>\n",
       "      <td>543a539e</td>\n",
       "      <td>c7ca3108</td>\n",
       "      <td>3e814130</td>\n",
       "      <td>ecad2386</td>\n",
       "      <td>7801e8d9</td>\n",
       "      <td>...</td>\n",
       "      <td>1</td>\n",
       "      <td>0</td>\n",
       "      <td>20362</td>\n",
       "      <td>320</td>\n",
       "      <td>50</td>\n",
       "      <td>2333</td>\n",
       "      <td>0</td>\n",
       "      <td>39</td>\n",
       "      <td>-1</td>\n",
       "      <td>157</td>\n",
       "    </tr>\n",
       "    <tr>\n",
       "      <th>4</th>\n",
       "      <td>1004402950134038739</td>\n",
       "      <td>0</td>\n",
       "      <td>14102100</td>\n",
       "      <td>1005</td>\n",
       "      <td>0</td>\n",
       "      <td>1fbe01fe</td>\n",
       "      <td>f3845767</td>\n",
       "      <td>28905ebd</td>\n",
       "      <td>ecad2386</td>\n",
       "      <td>7801e8d9</td>\n",
       "      <td>...</td>\n",
       "      <td>1</td>\n",
       "      <td>0</td>\n",
       "      <td>15705</td>\n",
       "      <td>320</td>\n",
       "      <td>50</td>\n",
       "      <td>1722</td>\n",
       "      <td>0</td>\n",
       "      <td>35</td>\n",
       "      <td>-1</td>\n",
       "      <td>79</td>\n",
       "    </tr>\n",
       "  </tbody>\n",
       "</table>\n",
       "<p>5 rows × 24 columns</p>\n",
       "</div>"
      ],
      "text/plain": [
       "                     id  click      hour    C1  banner_pos   site_id  \\\n",
       "0  10015745448500295401      0  14102100  1005           0  1fbe01fe   \n",
       "1  10017994765842027302      0  14102100  1005           0  1fbe01fe   \n",
       "2  10039696069275453092      0  14102100  1005           0  5b08c53b   \n",
       "3   1004326673744329635      0  14102100  1005           0  543a539e   \n",
       "4   1004402950134038739      0  14102100  1005           0  1fbe01fe   \n",
       "\n",
       "  site_domain site_category    app_id app_domain  ... device_type  \\\n",
       "0    f3845767      28905ebd  ecad2386   7801e8d9  ...           1   \n",
       "1    f3845767      28905ebd  ecad2386   7801e8d9  ...           1   \n",
       "2    7687a86e      3e814130  ecad2386   7801e8d9  ...           1   \n",
       "3    c7ca3108      3e814130  ecad2386   7801e8d9  ...           1   \n",
       "4    f3845767      28905ebd  ecad2386   7801e8d9  ...           1   \n",
       "\n",
       "  device_conn_type    C14  C15  C16   C17  C18  C19  C20  C21  \n",
       "0                0  15701  320   50  1722    0   35   -1   79  \n",
       "1                0  15707  320   50  1722    0   35   -1   79  \n",
       "2                0  17654  300  250  1994    2   39   -1   33  \n",
       "3                0  20362  320   50  2333    0   39   -1  157  \n",
       "4                0  15705  320   50  1722    0   35   -1   79  \n",
       "\n",
       "[5 rows x 24 columns]"
      ]
     },
     "execution_count": 9,
     "metadata": {},
     "output_type": "execute_result"
    }
   ],
   "source": [
    "da.head()"
   ]
  },
  {
   "cell_type": "markdown",
   "id": "3bb65eba-53d2-4e50-b5a3-089963cb1c48",
   "metadata": {},
   "source": [
    "# Pre-processing"
   ]
  },
  {
   "cell_type": "code",
   "execution_count": 10,
   "id": "ae56a72a-ba93-4814-895e-0e3e3424eaa2",
   "metadata": {},
   "outputs": [],
   "source": [
    "X = da.drop(columns = ['click','id'])\n",
    "y = da['click']"
   ]
  },
  {
   "cell_type": "code",
   "execution_count": 11,
   "id": "56493633-948b-45c8-a899-fb48e5c9fab9",
   "metadata": {},
   "outputs": [
    {
     "data": {
      "text/html": [
       "<div>\n",
       "<style scoped>\n",
       "    .dataframe tbody tr th:only-of-type {\n",
       "        vertical-align: middle;\n",
       "    }\n",
       "\n",
       "    .dataframe tbody tr th {\n",
       "        vertical-align: top;\n",
       "    }\n",
       "\n",
       "    .dataframe thead th {\n",
       "        text-align: right;\n",
       "    }\n",
       "</style>\n",
       "<table border=\"1\" class=\"dataframe\">\n",
       "  <thead>\n",
       "    <tr style=\"text-align: right;\">\n",
       "      <th></th>\n",
       "      <th>hour</th>\n",
       "      <th>C1</th>\n",
       "      <th>banner_pos</th>\n",
       "      <th>site_id</th>\n",
       "      <th>site_domain</th>\n",
       "      <th>site_category</th>\n",
       "      <th>app_id</th>\n",
       "      <th>app_domain</th>\n",
       "      <th>app_category</th>\n",
       "      <th>device_id</th>\n",
       "      <th>...</th>\n",
       "      <th>device_type</th>\n",
       "      <th>device_conn_type</th>\n",
       "      <th>C14</th>\n",
       "      <th>C15</th>\n",
       "      <th>C16</th>\n",
       "      <th>C17</th>\n",
       "      <th>C18</th>\n",
       "      <th>C19</th>\n",
       "      <th>C20</th>\n",
       "      <th>C21</th>\n",
       "    </tr>\n",
       "  </thead>\n",
       "  <tbody>\n",
       "    <tr>\n",
       "      <th>0</th>\n",
       "      <td>14102100</td>\n",
       "      <td>1005</td>\n",
       "      <td>0</td>\n",
       "      <td>1fbe01fe</td>\n",
       "      <td>f3845767</td>\n",
       "      <td>28905ebd</td>\n",
       "      <td>ecad2386</td>\n",
       "      <td>7801e8d9</td>\n",
       "      <td>07d7df22</td>\n",
       "      <td>a99f214a</td>\n",
       "      <td>...</td>\n",
       "      <td>1</td>\n",
       "      <td>0</td>\n",
       "      <td>15701</td>\n",
       "      <td>320</td>\n",
       "      <td>50</td>\n",
       "      <td>1722</td>\n",
       "      <td>0</td>\n",
       "      <td>35</td>\n",
       "      <td>-1</td>\n",
       "      <td>79</td>\n",
       "    </tr>\n",
       "    <tr>\n",
       "      <th>1</th>\n",
       "      <td>14102100</td>\n",
       "      <td>1005</td>\n",
       "      <td>0</td>\n",
       "      <td>1fbe01fe</td>\n",
       "      <td>f3845767</td>\n",
       "      <td>28905ebd</td>\n",
       "      <td>ecad2386</td>\n",
       "      <td>7801e8d9</td>\n",
       "      <td>07d7df22</td>\n",
       "      <td>a99f214a</td>\n",
       "      <td>...</td>\n",
       "      <td>1</td>\n",
       "      <td>0</td>\n",
       "      <td>15707</td>\n",
       "      <td>320</td>\n",
       "      <td>50</td>\n",
       "      <td>1722</td>\n",
       "      <td>0</td>\n",
       "      <td>35</td>\n",
       "      <td>-1</td>\n",
       "      <td>79</td>\n",
       "    </tr>\n",
       "    <tr>\n",
       "      <th>2</th>\n",
       "      <td>14102100</td>\n",
       "      <td>1005</td>\n",
       "      <td>0</td>\n",
       "      <td>5b08c53b</td>\n",
       "      <td>7687a86e</td>\n",
       "      <td>3e814130</td>\n",
       "      <td>ecad2386</td>\n",
       "      <td>7801e8d9</td>\n",
       "      <td>07d7df22</td>\n",
       "      <td>a99f214a</td>\n",
       "      <td>...</td>\n",
       "      <td>1</td>\n",
       "      <td>0</td>\n",
       "      <td>17654</td>\n",
       "      <td>300</td>\n",
       "      <td>250</td>\n",
       "      <td>1994</td>\n",
       "      <td>2</td>\n",
       "      <td>39</td>\n",
       "      <td>-1</td>\n",
       "      <td>33</td>\n",
       "    </tr>\n",
       "    <tr>\n",
       "      <th>3</th>\n",
       "      <td>14102100</td>\n",
       "      <td>1005</td>\n",
       "      <td>0</td>\n",
       "      <td>543a539e</td>\n",
       "      <td>c7ca3108</td>\n",
       "      <td>3e814130</td>\n",
       "      <td>ecad2386</td>\n",
       "      <td>7801e8d9</td>\n",
       "      <td>07d7df22</td>\n",
       "      <td>a99f214a</td>\n",
       "      <td>...</td>\n",
       "      <td>1</td>\n",
       "      <td>0</td>\n",
       "      <td>20362</td>\n",
       "      <td>320</td>\n",
       "      <td>50</td>\n",
       "      <td>2333</td>\n",
       "      <td>0</td>\n",
       "      <td>39</td>\n",
       "      <td>-1</td>\n",
       "      <td>157</td>\n",
       "    </tr>\n",
       "    <tr>\n",
       "      <th>4</th>\n",
       "      <td>14102100</td>\n",
       "      <td>1005</td>\n",
       "      <td>0</td>\n",
       "      <td>1fbe01fe</td>\n",
       "      <td>f3845767</td>\n",
       "      <td>28905ebd</td>\n",
       "      <td>ecad2386</td>\n",
       "      <td>7801e8d9</td>\n",
       "      <td>07d7df22</td>\n",
       "      <td>a99f214a</td>\n",
       "      <td>...</td>\n",
       "      <td>1</td>\n",
       "      <td>0</td>\n",
       "      <td>15705</td>\n",
       "      <td>320</td>\n",
       "      <td>50</td>\n",
       "      <td>1722</td>\n",
       "      <td>0</td>\n",
       "      <td>35</td>\n",
       "      <td>-1</td>\n",
       "      <td>79</td>\n",
       "    </tr>\n",
       "    <tr>\n",
       "      <th>...</th>\n",
       "      <td>...</td>\n",
       "      <td>...</td>\n",
       "      <td>...</td>\n",
       "      <td>...</td>\n",
       "      <td>...</td>\n",
       "      <td>...</td>\n",
       "      <td>...</td>\n",
       "      <td>...</td>\n",
       "      <td>...</td>\n",
       "      <td>...</td>\n",
       "      <td>...</td>\n",
       "      <td>...</td>\n",
       "      <td>...</td>\n",
       "      <td>...</td>\n",
       "      <td>...</td>\n",
       "      <td>...</td>\n",
       "      <td>...</td>\n",
       "      <td>...</td>\n",
       "      <td>...</td>\n",
       "      <td>...</td>\n",
       "      <td>...</td>\n",
       "    </tr>\n",
       "    <tr>\n",
       "      <th>497529</th>\n",
       "      <td>14103023</td>\n",
       "      <td>1005</td>\n",
       "      <td>0</td>\n",
       "      <td>85f751fd</td>\n",
       "      <td>c4e18dd6</td>\n",
       "      <td>50e219e0</td>\n",
       "      <td>9c13b419</td>\n",
       "      <td>2347f47a</td>\n",
       "      <td>f95efa07</td>\n",
       "      <td>a99f214a</td>\n",
       "      <td>...</td>\n",
       "      <td>1</td>\n",
       "      <td>0</td>\n",
       "      <td>23160</td>\n",
       "      <td>320</td>\n",
       "      <td>50</td>\n",
       "      <td>2667</td>\n",
       "      <td>0</td>\n",
       "      <td>47</td>\n",
       "      <td>-1</td>\n",
       "      <td>221</td>\n",
       "    </tr>\n",
       "    <tr>\n",
       "      <th>497530</th>\n",
       "      <td>14103023</td>\n",
       "      <td>1005</td>\n",
       "      <td>0</td>\n",
       "      <td>1fbe01fe</td>\n",
       "      <td>f3845767</td>\n",
       "      <td>28905ebd</td>\n",
       "      <td>ecad2386</td>\n",
       "      <td>7801e8d9</td>\n",
       "      <td>07d7df22</td>\n",
       "      <td>a99f214a</td>\n",
       "      <td>...</td>\n",
       "      <td>1</td>\n",
       "      <td>0</td>\n",
       "      <td>15701</td>\n",
       "      <td>320</td>\n",
       "      <td>50</td>\n",
       "      <td>1722</td>\n",
       "      <td>0</td>\n",
       "      <td>35</td>\n",
       "      <td>-1</td>\n",
       "      <td>79</td>\n",
       "    </tr>\n",
       "    <tr>\n",
       "      <th>497531</th>\n",
       "      <td>14103023</td>\n",
       "      <td>1005</td>\n",
       "      <td>0</td>\n",
       "      <td>1fbe01fe</td>\n",
       "      <td>f3845767</td>\n",
       "      <td>28905ebd</td>\n",
       "      <td>ecad2386</td>\n",
       "      <td>7801e8d9</td>\n",
       "      <td>07d7df22</td>\n",
       "      <td>a99f214a</td>\n",
       "      <td>...</td>\n",
       "      <td>1</td>\n",
       "      <td>0</td>\n",
       "      <td>22676</td>\n",
       "      <td>320</td>\n",
       "      <td>50</td>\n",
       "      <td>2616</td>\n",
       "      <td>0</td>\n",
       "      <td>35</td>\n",
       "      <td>100083</td>\n",
       "      <td>51</td>\n",
       "    </tr>\n",
       "    <tr>\n",
       "      <th>497532</th>\n",
       "      <td>14103023</td>\n",
       "      <td>1005</td>\n",
       "      <td>0</td>\n",
       "      <td>85f751fd</td>\n",
       "      <td>c4e18dd6</td>\n",
       "      <td>50e219e0</td>\n",
       "      <td>7e7baafa</td>\n",
       "      <td>2347f47a</td>\n",
       "      <td>0f2161f8</td>\n",
       "      <td>a99f214a</td>\n",
       "      <td>...</td>\n",
       "      <td>1</td>\n",
       "      <td>0</td>\n",
       "      <td>23866</td>\n",
       "      <td>320</td>\n",
       "      <td>50</td>\n",
       "      <td>2736</td>\n",
       "      <td>0</td>\n",
       "      <td>33</td>\n",
       "      <td>100170</td>\n",
       "      <td>246</td>\n",
       "    </tr>\n",
       "    <tr>\n",
       "      <th>497533</th>\n",
       "      <td>14103023</td>\n",
       "      <td>1005</td>\n",
       "      <td>0</td>\n",
       "      <td>85f751fd</td>\n",
       "      <td>c4e18dd6</td>\n",
       "      <td>50e219e0</td>\n",
       "      <td>7e7baafa</td>\n",
       "      <td>2347f47a</td>\n",
       "      <td>0f2161f8</td>\n",
       "      <td>a99f214a</td>\n",
       "      <td>...</td>\n",
       "      <td>1</td>\n",
       "      <td>0</td>\n",
       "      <td>23866</td>\n",
       "      <td>320</td>\n",
       "      <td>50</td>\n",
       "      <td>2736</td>\n",
       "      <td>0</td>\n",
       "      <td>33</td>\n",
       "      <td>100170</td>\n",
       "      <td>246</td>\n",
       "    </tr>\n",
       "  </tbody>\n",
       "</table>\n",
       "<p>497534 rows × 22 columns</p>\n",
       "</div>"
      ],
      "text/plain": [
       "            hour    C1  banner_pos   site_id site_domain site_category  \\\n",
       "0       14102100  1005           0  1fbe01fe    f3845767      28905ebd   \n",
       "1       14102100  1005           0  1fbe01fe    f3845767      28905ebd   \n",
       "2       14102100  1005           0  5b08c53b    7687a86e      3e814130   \n",
       "3       14102100  1005           0  543a539e    c7ca3108      3e814130   \n",
       "4       14102100  1005           0  1fbe01fe    f3845767      28905ebd   \n",
       "...          ...   ...         ...       ...         ...           ...   \n",
       "497529  14103023  1005           0  85f751fd    c4e18dd6      50e219e0   \n",
       "497530  14103023  1005           0  1fbe01fe    f3845767      28905ebd   \n",
       "497531  14103023  1005           0  1fbe01fe    f3845767      28905ebd   \n",
       "497532  14103023  1005           0  85f751fd    c4e18dd6      50e219e0   \n",
       "497533  14103023  1005           0  85f751fd    c4e18dd6      50e219e0   \n",
       "\n",
       "          app_id app_domain app_category device_id  ... device_type  \\\n",
       "0       ecad2386   7801e8d9     07d7df22  a99f214a  ...           1   \n",
       "1       ecad2386   7801e8d9     07d7df22  a99f214a  ...           1   \n",
       "2       ecad2386   7801e8d9     07d7df22  a99f214a  ...           1   \n",
       "3       ecad2386   7801e8d9     07d7df22  a99f214a  ...           1   \n",
       "4       ecad2386   7801e8d9     07d7df22  a99f214a  ...           1   \n",
       "...          ...        ...          ...       ...  ...         ...   \n",
       "497529  9c13b419   2347f47a     f95efa07  a99f214a  ...           1   \n",
       "497530  ecad2386   7801e8d9     07d7df22  a99f214a  ...           1   \n",
       "497531  ecad2386   7801e8d9     07d7df22  a99f214a  ...           1   \n",
       "497532  7e7baafa   2347f47a     0f2161f8  a99f214a  ...           1   \n",
       "497533  7e7baafa   2347f47a     0f2161f8  a99f214a  ...           1   \n",
       "\n",
       "       device_conn_type    C14  C15  C16   C17  C18  C19     C20  C21  \n",
       "0                     0  15701  320   50  1722    0   35      -1   79  \n",
       "1                     0  15707  320   50  1722    0   35      -1   79  \n",
       "2                     0  17654  300  250  1994    2   39      -1   33  \n",
       "3                     0  20362  320   50  2333    0   39      -1  157  \n",
       "4                     0  15705  320   50  1722    0   35      -1   79  \n",
       "...                 ...    ...  ...  ...   ...  ...  ...     ...  ...  \n",
       "497529                0  23160  320   50  2667    0   47      -1  221  \n",
       "497530                0  15701  320   50  1722    0   35      -1   79  \n",
       "497531                0  22676  320   50  2616    0   35  100083   51  \n",
       "497532                0  23866  320   50  2736    0   33  100170  246  \n",
       "497533                0  23866  320   50  2736    0   33  100170  246  \n",
       "\n",
       "[497534 rows x 22 columns]"
      ]
     },
     "execution_count": 11,
     "metadata": {},
     "output_type": "execute_result"
    }
   ],
   "source": [
    "X"
   ]
  },
  {
   "cell_type": "code",
   "execution_count": 12,
   "id": "5ad516d4-5e1e-4186-bcd2-cf1d54845373",
   "metadata": {},
   "outputs": [
    {
     "data": {
      "text/plain": [
       "0         0\n",
       "1         0\n",
       "2         0\n",
       "3         0\n",
       "4         0\n",
       "         ..\n",
       "497529    0\n",
       "497530    0\n",
       "497531    0\n",
       "497532    0\n",
       "497533    0\n",
       "Name: click, Length: 497534, dtype: int64"
      ]
     },
     "execution_count": 12,
     "metadata": {},
     "output_type": "execute_result"
    }
   ],
   "source": [
    "y"
   ]
  },
  {
   "cell_type": "code",
   "execution_count": 13,
   "id": "afcf250e-c615-4895-a3e1-1ba4199f253f",
   "metadata": {},
   "outputs": [],
   "source": [
    "X.columns = ['hour', 'C1', 'banner_pos', 'site_id','site_domain','site_category', 'app_id', 'app_domain', 'app_category', 'device_id',\n",
    "       'device_ip', 'device_model', 'device_type', 'device_conn_type', 'C14',\n",
    "       'C15', 'C16', 'C17', 'C18', 'C19', 'C20', 'C21']\n",
    "y.columns = ['click']"
   ]
  },
  {
   "cell_type": "code",
   "execution_count": 14,
   "id": "88768073-a4aa-4db4-87e8-0a82c89deba1",
   "metadata": {},
   "outputs": [],
   "source": [
    "X_train, X_test, y_train, y_test = train_test_split(X, y, test_size=0.20, random_state=2022)"
   ]
  },
  {
   "cell_type": "code",
   "execution_count": 15,
   "id": "ef1c6d48-8a67-4299-8729-56097abeef9c",
   "metadata": {},
   "outputs": [],
   "source": [
    "num_vars = X.select_dtypes(exclude='object').columns\n",
    "cat_vars = X.select_dtypes(include='object').columns"
   ]
  },
  {
   "cell_type": "code",
   "execution_count": 16,
   "id": "6db81441-b928-4fdd-a2c4-2ac101289a6e",
   "metadata": {},
   "outputs": [],
   "source": [
    "pipeline = Pipeline([('si',SimpleImputer(strategy='median')),('std',StandardScaler())])"
   ]
  },
  {
   "cell_type": "code",
   "execution_count": 17,
   "id": "fe1b8985-990e-4ce6-9a71-2853a667ba27",
   "metadata": {},
   "outputs": [
    {
     "data": {
      "text/html": [
       "<div>\n",
       "<style scoped>\n",
       "    .dataframe tbody tr th:only-of-type {\n",
       "        vertical-align: middle;\n",
       "    }\n",
       "\n",
       "    .dataframe tbody tr th {\n",
       "        vertical-align: top;\n",
       "    }\n",
       "\n",
       "    .dataframe thead th {\n",
       "        text-align: right;\n",
       "    }\n",
       "</style>\n",
       "<table border=\"1\" class=\"dataframe\">\n",
       "  <thead>\n",
       "    <tr style=\"text-align: right;\">\n",
       "      <th></th>\n",
       "      <th>site_id</th>\n",
       "      <th>site_domain</th>\n",
       "      <th>site_category</th>\n",
       "      <th>app_id</th>\n",
       "      <th>app_domain</th>\n",
       "      <th>app_category</th>\n",
       "      <th>device_id</th>\n",
       "      <th>device_ip</th>\n",
       "      <th>device_model</th>\n",
       "    </tr>\n",
       "  </thead>\n",
       "  <tbody>\n",
       "    <tr>\n",
       "      <th>416955</th>\n",
       "      <td>0.118676</td>\n",
       "      <td>0.122534</td>\n",
       "      <td>0.128107</td>\n",
       "      <td>0.096774</td>\n",
       "      <td>0.137589</td>\n",
       "      <td>0.107822</td>\n",
       "      <td>0.173962</td>\n",
       "      <td>0.169466</td>\n",
       "      <td>0.066372</td>\n",
       "    </tr>\n",
       "    <tr>\n",
       "      <th>178611</th>\n",
       "      <td>0.118676</td>\n",
       "      <td>0.122534</td>\n",
       "      <td>0.128107</td>\n",
       "      <td>0.190255</td>\n",
       "      <td>0.190310</td>\n",
       "      <td>0.107822</td>\n",
       "      <td>0.169466</td>\n",
       "      <td>0.169466</td>\n",
       "      <td>0.156863</td>\n",
       "    </tr>\n",
       "    <tr>\n",
       "      <th>228685</th>\n",
       "      <td>0.118676</td>\n",
       "      <td>0.122534</td>\n",
       "      <td>0.128107</td>\n",
       "      <td>0.020908</td>\n",
       "      <td>0.025073</td>\n",
       "      <td>0.107822</td>\n",
       "      <td>0.173962</td>\n",
       "      <td>0.000000</td>\n",
       "      <td>0.017324</td>\n",
       "    </tr>\n",
       "    <tr>\n",
       "      <th>460561</th>\n",
       "      <td>0.205431</td>\n",
       "      <td>0.205431</td>\n",
       "      <td>0.207211</td>\n",
       "      <td>0.198195</td>\n",
       "      <td>0.194486</td>\n",
       "      <td>0.198797</td>\n",
       "      <td>0.173962</td>\n",
       "      <td>0.166667</td>\n",
       "      <td>0.139461</td>\n",
       "    </tr>\n",
       "    <tr>\n",
       "      <th>468136</th>\n",
       "      <td>0.226601</td>\n",
       "      <td>0.226601</td>\n",
       "      <td>0.286907</td>\n",
       "      <td>0.198195</td>\n",
       "      <td>0.194486</td>\n",
       "      <td>0.198797</td>\n",
       "      <td>0.173962</td>\n",
       "      <td>0.169466</td>\n",
       "      <td>0.220832</td>\n",
       "    </tr>\n",
       "    <tr>\n",
       "      <th>...</th>\n",
       "      <td>...</td>\n",
       "      <td>...</td>\n",
       "      <td>...</td>\n",
       "      <td>...</td>\n",
       "      <td>...</td>\n",
       "      <td>...</td>\n",
       "      <td>...</td>\n",
       "      <td>...</td>\n",
       "      <td>...</td>\n",
       "    </tr>\n",
       "    <tr>\n",
       "      <th>439985</th>\n",
       "      <td>0.098039</td>\n",
       "      <td>0.259902</td>\n",
       "      <td>0.178302</td>\n",
       "      <td>0.198195</td>\n",
       "      <td>0.194486</td>\n",
       "      <td>0.198797</td>\n",
       "      <td>0.173962</td>\n",
       "      <td>0.107311</td>\n",
       "      <td>0.089686</td>\n",
       "    </tr>\n",
       "    <tr>\n",
       "      <th>103024</th>\n",
       "      <td>0.118676</td>\n",
       "      <td>0.122534</td>\n",
       "      <td>0.128107</td>\n",
       "      <td>0.186658</td>\n",
       "      <td>0.181861</td>\n",
       "      <td>0.095038</td>\n",
       "      <td>0.169466</td>\n",
       "      <td>0.000000</td>\n",
       "      <td>0.193849</td>\n",
       "    </tr>\n",
       "    <tr>\n",
       "      <th>147629</th>\n",
       "      <td>0.279920</td>\n",
       "      <td>0.274641</td>\n",
       "      <td>0.178294</td>\n",
       "      <td>0.198191</td>\n",
       "      <td>0.194482</td>\n",
       "      <td>0.198793</td>\n",
       "      <td>0.173959</td>\n",
       "      <td>0.169466</td>\n",
       "      <td>0.135950</td>\n",
       "    </tr>\n",
       "    <tr>\n",
       "      <th>263388</th>\n",
       "      <td>0.118676</td>\n",
       "      <td>0.122534</td>\n",
       "      <td>0.128107</td>\n",
       "      <td>0.020908</td>\n",
       "      <td>0.025073</td>\n",
       "      <td>0.107822</td>\n",
       "      <td>0.173962</td>\n",
       "      <td>0.000000</td>\n",
       "      <td>0.017324</td>\n",
       "    </tr>\n",
       "    <tr>\n",
       "      <th>349053</th>\n",
       "      <td>0.118676</td>\n",
       "      <td>0.122534</td>\n",
       "      <td>0.128107</td>\n",
       "      <td>0.069521</td>\n",
       "      <td>0.071309</td>\n",
       "      <td>0.107822</td>\n",
       "      <td>0.173962</td>\n",
       "      <td>0.169466</td>\n",
       "      <td>0.143956</td>\n",
       "    </tr>\n",
       "  </tbody>\n",
       "</table>\n",
       "<p>398027 rows × 9 columns</p>\n",
       "</div>"
      ],
      "text/plain": [
       "         site_id  site_domain  site_category    app_id  app_domain  \\\n",
       "416955  0.118676     0.122534       0.128107  0.096774    0.137589   \n",
       "178611  0.118676     0.122534       0.128107  0.190255    0.190310   \n",
       "228685  0.118676     0.122534       0.128107  0.020908    0.025073   \n",
       "460561  0.205431     0.205431       0.207211  0.198195    0.194486   \n",
       "468136  0.226601     0.226601       0.286907  0.198195    0.194486   \n",
       "...          ...          ...            ...       ...         ...   \n",
       "439985  0.098039     0.259902       0.178302  0.198195    0.194486   \n",
       "103024  0.118676     0.122534       0.128107  0.186658    0.181861   \n",
       "147629  0.279920     0.274641       0.178294  0.198191    0.194482   \n",
       "263388  0.118676     0.122534       0.128107  0.020908    0.025073   \n",
       "349053  0.118676     0.122534       0.128107  0.069521    0.071309   \n",
       "\n",
       "        app_category  device_id  device_ip  device_model  \n",
       "416955      0.107822   0.173962   0.169466      0.066372  \n",
       "178611      0.107822   0.169466   0.169466      0.156863  \n",
       "228685      0.107822   0.173962   0.000000      0.017324  \n",
       "460561      0.198797   0.173962   0.166667      0.139461  \n",
       "468136      0.198797   0.173962   0.169466      0.220832  \n",
       "...              ...        ...        ...           ...  \n",
       "439985      0.198797   0.173962   0.107311      0.089686  \n",
       "103024      0.095038   0.169466   0.000000      0.193849  \n",
       "147629      0.198793   0.173959   0.169466      0.135950  \n",
       "263388      0.107822   0.173962   0.000000      0.017324  \n",
       "349053      0.107822   0.173962   0.169466      0.143956  \n",
       "\n",
       "[398027 rows x 9 columns]"
      ]
     },
     "execution_count": 17,
     "metadata": {},
     "output_type": "execute_result"
    }
   ],
   "source": [
    "encoder = ce.LeaveOneOutEncoder(return_df=True)\n",
    "encoder.fit_transform(X_train[cat_vars], y_train)"
   ]
  },
  {
   "cell_type": "code",
   "execution_count": 18,
   "id": "cd33dbcc-995e-4288-ab72-58c421f9150b",
   "metadata": {},
   "outputs": [],
   "source": [
    "preprocessing_pipeline = ColumnTransformer([('num',pipeline,num_vars),('cat',encoder,cat_vars)])"
   ]
  },
  {
   "cell_type": "code",
   "execution_count": 19,
   "id": "96aab53d-145a-4e22-8aa8-83953a9fad1f",
   "metadata": {},
   "outputs": [],
   "source": [
    "X_train_std=pd.DataFrame(preprocessing_pipeline.fit_transform(X_train,y_train))"
   ]
  },
  {
   "cell_type": "code",
   "execution_count": 20,
   "id": "6432d533-e128-488a-9c76-d0f4ba554ee8",
   "metadata": {},
   "outputs": [],
   "source": [
    "X_test_std=pd.DataFrame(preprocessing_pipeline.fit_transform(X_test,y_test))"
   ]
  },
  {
   "cell_type": "code",
   "execution_count": 21,
   "id": "ea178297-cddc-4299-8101-a3554b50bdd3",
   "metadata": {},
   "outputs": [
    {
     "data": {
      "text/plain": [
       "(398027, 22)"
      ]
     },
     "execution_count": 21,
     "metadata": {},
     "output_type": "execute_result"
    }
   ],
   "source": [
    "X_train_std.shape"
   ]
  },
  {
   "cell_type": "code",
   "execution_count": 22,
   "id": "80987e2d-b3b1-409d-ba88-e19abae1876f",
   "metadata": {},
   "outputs": [
    {
     "data": {
      "text/plain": [
       "(99507, 22)"
      ]
     },
     "execution_count": 22,
     "metadata": {},
     "output_type": "execute_result"
    }
   ],
   "source": [
    "X_test_std.shape"
   ]
  },
  {
   "cell_type": "code",
   "execution_count": 23,
   "id": "d991461f-5ff0-4ab2-92fc-eaf085c3a2d1",
   "metadata": {},
   "outputs": [
    {
     "data": {
      "text/plain": [
       "(99507,)"
      ]
     },
     "execution_count": 23,
     "metadata": {},
     "output_type": "execute_result"
    }
   ],
   "source": [
    "y_test.shape"
   ]
  },
  {
   "cell_type": "code",
   "execution_count": 24,
   "id": "56a93ade-67af-4df3-b675-f99d9b0b3b1b",
   "metadata": {},
   "outputs": [
    {
     "data": {
      "text/html": [
       "<div>\n",
       "<style scoped>\n",
       "    .dataframe tbody tr th:only-of-type {\n",
       "        vertical-align: middle;\n",
       "    }\n",
       "\n",
       "    .dataframe tbody tr th {\n",
       "        vertical-align: top;\n",
       "    }\n",
       "\n",
       "    .dataframe thead th {\n",
       "        text-align: right;\n",
       "    }\n",
       "</style>\n",
       "<table border=\"1\" class=\"dataframe\">\n",
       "  <thead>\n",
       "    <tr style=\"text-align: right;\">\n",
       "      <th></th>\n",
       "      <th>0</th>\n",
       "      <th>1</th>\n",
       "      <th>2</th>\n",
       "      <th>3</th>\n",
       "      <th>4</th>\n",
       "      <th>5</th>\n",
       "      <th>6</th>\n",
       "      <th>7</th>\n",
       "      <th>8</th>\n",
       "      <th>9</th>\n",
       "      <th>...</th>\n",
       "      <th>12</th>\n",
       "      <th>13</th>\n",
       "      <th>14</th>\n",
       "      <th>15</th>\n",
       "      <th>16</th>\n",
       "      <th>17</th>\n",
       "      <th>18</th>\n",
       "      <th>19</th>\n",
       "      <th>20</th>\n",
       "      <th>21</th>\n",
       "    </tr>\n",
       "  </thead>\n",
       "  <tbody>\n",
       "    <tr>\n",
       "      <th>0</th>\n",
       "      <td>1.181028</td>\n",
       "      <td>0.027843</td>\n",
       "      <td>-0.566348</td>\n",
       "      <td>-0.031005</td>\n",
       "      <td>1.943800</td>\n",
       "      <td>0.966132</td>\n",
       "      <td>0.053593</td>\n",
       "      <td>-0.21406</td>\n",
       "      <td>0.977541</td>\n",
       "      <td>1.178455</td>\n",
       "      <td>...</td>\n",
       "      <td>-0.857252</td>\n",
       "      <td>0.118676</td>\n",
       "      <td>0.122534</td>\n",
       "      <td>0.128107</td>\n",
       "      <td>0.096774</td>\n",
       "      <td>0.137589</td>\n",
       "      <td>0.107822</td>\n",
       "      <td>0.173962</td>\n",
       "      <td>0.169466</td>\n",
       "      <td>0.066372</td>\n",
       "    </tr>\n",
       "    <tr>\n",
       "      <th>1</th>\n",
       "      <td>-0.507786</td>\n",
       "      <td>0.027843</td>\n",
       "      <td>-0.566348</td>\n",
       "      <td>-0.031005</td>\n",
       "      <td>-0.388469</td>\n",
       "      <td>0.188936</td>\n",
       "      <td>0.053593</td>\n",
       "      <td>-0.21406</td>\n",
       "      <td>0.189131</td>\n",
       "      <td>-1.083422</td>\n",
       "      <td>...</td>\n",
       "      <td>-0.501327</td>\n",
       "      <td>0.118676</td>\n",
       "      <td>0.122534</td>\n",
       "      <td>0.128107</td>\n",
       "      <td>0.190255</td>\n",
       "      <td>0.190310</td>\n",
       "      <td>0.107822</td>\n",
       "      <td>0.169466</td>\n",
       "      <td>0.169466</td>\n",
       "      <td>0.156863</td>\n",
       "    </tr>\n",
       "    <tr>\n",
       "      <th>2</th>\n",
       "      <td>-0.150472</td>\n",
       "      <td>0.027843</td>\n",
       "      <td>-0.566348</td>\n",
       "      <td>-0.031005</td>\n",
       "      <td>1.943800</td>\n",
       "      <td>0.474035</td>\n",
       "      <td>0.053593</td>\n",
       "      <td>-0.21406</td>\n",
       "      <td>0.511365</td>\n",
       "      <td>-0.329463</td>\n",
       "      <td>...</td>\n",
       "      <td>-0.173876</td>\n",
       "      <td>0.118676</td>\n",
       "      <td>0.122534</td>\n",
       "      <td>0.128107</td>\n",
       "      <td>0.020908</td>\n",
       "      <td>0.025073</td>\n",
       "      <td>0.107822</td>\n",
       "      <td>0.173962</td>\n",
       "      <td>0.000000</td>\n",
       "      <td>0.017324</td>\n",
       "    </tr>\n",
       "    <tr>\n",
       "      <th>3</th>\n",
       "      <td>1.511375</td>\n",
       "      <td>0.027843</td>\n",
       "      <td>-0.566348</td>\n",
       "      <td>-0.031005</td>\n",
       "      <td>1.943800</td>\n",
       "      <td>0.858718</td>\n",
       "      <td>0.053593</td>\n",
       "      <td>-0.21406</td>\n",
       "      <td>0.674936</td>\n",
       "      <td>-1.083422</td>\n",
       "      <td>...</td>\n",
       "      <td>1.961674</td>\n",
       "      <td>0.205431</td>\n",
       "      <td>0.205431</td>\n",
       "      <td>0.207211</td>\n",
       "      <td>0.198195</td>\n",
       "      <td>0.194486</td>\n",
       "      <td>0.198797</td>\n",
       "      <td>0.173962</td>\n",
       "      <td>0.166667</td>\n",
       "      <td>0.139461</td>\n",
       "    </tr>\n",
       "    <tr>\n",
       "      <th>4</th>\n",
       "      <td>1.521487</td>\n",
       "      <td>0.027843</td>\n",
       "      <td>-0.566348</td>\n",
       "      <td>-0.031005</td>\n",
       "      <td>-0.388469</td>\n",
       "      <td>0.983599</td>\n",
       "      <td>0.053593</td>\n",
       "      <td>-0.21406</td>\n",
       "      <td>0.990627</td>\n",
       "      <td>0.424496</td>\n",
       "      <td>...</td>\n",
       "      <td>-0.857252</td>\n",
       "      <td>0.226601</td>\n",
       "      <td>0.226601</td>\n",
       "      <td>0.286907</td>\n",
       "      <td>0.198195</td>\n",
       "      <td>0.194486</td>\n",
       "      <td>0.198797</td>\n",
       "      <td>0.173962</td>\n",
       "      <td>0.169466</td>\n",
       "      <td>0.220832</td>\n",
       "    </tr>\n",
       "    <tr>\n",
       "      <th>...</th>\n",
       "      <td>...</td>\n",
       "      <td>...</td>\n",
       "      <td>...</td>\n",
       "      <td>...</td>\n",
       "      <td>...</td>\n",
       "      <td>...</td>\n",
       "      <td>...</td>\n",
       "      <td>...</td>\n",
       "      <td>...</td>\n",
       "      <td>...</td>\n",
       "      <td>...</td>\n",
       "      <td>...</td>\n",
       "      <td>...</td>\n",
       "      <td>...</td>\n",
       "      <td>...</td>\n",
       "      <td>...</td>\n",
       "      <td>...</td>\n",
       "      <td>...</td>\n",
       "      <td>...</td>\n",
       "      <td>...</td>\n",
       "      <td>...</td>\n",
       "    </tr>\n",
       "    <tr>\n",
       "      <th>398022</th>\n",
       "      <td>1.214737</td>\n",
       "      <td>0.027843</td>\n",
       "      <td>1.396915</td>\n",
       "      <td>-0.031005</td>\n",
       "      <td>-0.388469</td>\n",
       "      <td>0.962920</td>\n",
       "      <td>0.053593</td>\n",
       "      <td>-0.21406</td>\n",
       "      <td>0.974270</td>\n",
       "      <td>1.178455</td>\n",
       "      <td>...</td>\n",
       "      <td>-0.316246</td>\n",
       "      <td>0.098039</td>\n",
       "      <td>0.259902</td>\n",
       "      <td>0.178302</td>\n",
       "      <td>0.198195</td>\n",
       "      <td>0.194486</td>\n",
       "      <td>0.198797</td>\n",
       "      <td>0.173962</td>\n",
       "      <td>0.107311</td>\n",
       "      <td>0.089686</td>\n",
       "    </tr>\n",
       "    <tr>\n",
       "      <th>398023</th>\n",
       "      <td>-1.154996</td>\n",
       "      <td>0.027843</td>\n",
       "      <td>-0.566348</td>\n",
       "      <td>-0.031005</td>\n",
       "      <td>-0.388469</td>\n",
       "      <td>-3.571962</td>\n",
       "      <td>0.053593</td>\n",
       "      <td>-0.21406</td>\n",
       "      <td>-3.162430</td>\n",
       "      <td>1.178455</td>\n",
       "      <td>...</td>\n",
       "      <td>-0.971148</td>\n",
       "      <td>0.118676</td>\n",
       "      <td>0.122534</td>\n",
       "      <td>0.128107</td>\n",
       "      <td>0.186658</td>\n",
       "      <td>0.181861</td>\n",
       "      <td>0.095038</td>\n",
       "      <td>0.169466</td>\n",
       "      <td>0.000000</td>\n",
       "      <td>0.193849</td>\n",
       "    </tr>\n",
       "    <tr>\n",
       "      <th>398024</th>\n",
       "      <td>-0.824649</td>\n",
       "      <td>0.027843</td>\n",
       "      <td>1.396915</td>\n",
       "      <td>-0.031005</td>\n",
       "      <td>-0.388469</td>\n",
       "      <td>-0.148164</td>\n",
       "      <td>0.053593</td>\n",
       "      <td>-0.21406</td>\n",
       "      <td>-0.084032</td>\n",
       "      <td>1.178455</td>\n",
       "      <td>...</td>\n",
       "      <td>-0.857252</td>\n",
       "      <td>0.279920</td>\n",
       "      <td>0.274641</td>\n",
       "      <td>0.178294</td>\n",
       "      <td>0.198191</td>\n",
       "      <td>0.194482</td>\n",
       "      <td>0.198793</td>\n",
       "      <td>0.173959</td>\n",
       "      <td>0.169466</td>\n",
       "      <td>0.135950</td>\n",
       "    </tr>\n",
       "    <tr>\n",
       "      <th>398025</th>\n",
       "      <td>0.169762</td>\n",
       "      <td>0.027843</td>\n",
       "      <td>-0.566348</td>\n",
       "      <td>-0.031005</td>\n",
       "      <td>3.109935</td>\n",
       "      <td>0.473633</td>\n",
       "      <td>0.053593</td>\n",
       "      <td>-0.21406</td>\n",
       "      <td>0.511365</td>\n",
       "      <td>-0.329463</td>\n",
       "      <td>...</td>\n",
       "      <td>-0.173876</td>\n",
       "      <td>0.118676</td>\n",
       "      <td>0.122534</td>\n",
       "      <td>0.128107</td>\n",
       "      <td>0.020908</td>\n",
       "      <td>0.025073</td>\n",
       "      <td>0.107822</td>\n",
       "      <td>0.173962</td>\n",
       "      <td>0.000000</td>\n",
       "      <td>0.017324</td>\n",
       "    </tr>\n",
       "    <tr>\n",
       "      <th>398026</th>\n",
       "      <td>0.840569</td>\n",
       "      <td>0.027843</td>\n",
       "      <td>-0.566348</td>\n",
       "      <td>-0.031005</td>\n",
       "      <td>-0.388469</td>\n",
       "      <td>0.866147</td>\n",
       "      <td>0.053593</td>\n",
       "      <td>-0.21406</td>\n",
       "      <td>0.905570</td>\n",
       "      <td>-1.083422</td>\n",
       "      <td>...</td>\n",
       "      <td>1.961674</td>\n",
       "      <td>0.118676</td>\n",
       "      <td>0.122534</td>\n",
       "      <td>0.128107</td>\n",
       "      <td>0.069521</td>\n",
       "      <td>0.071309</td>\n",
       "      <td>0.107822</td>\n",
       "      <td>0.173962</td>\n",
       "      <td>0.169466</td>\n",
       "      <td>0.143956</td>\n",
       "    </tr>\n",
       "  </tbody>\n",
       "</table>\n",
       "<p>398027 rows × 22 columns</p>\n",
       "</div>"
      ],
      "text/plain": [
       "              0         1         2         3         4         5         6   \\\n",
       "0       1.181028  0.027843 -0.566348 -0.031005  1.943800  0.966132  0.053593   \n",
       "1      -0.507786  0.027843 -0.566348 -0.031005 -0.388469  0.188936  0.053593   \n",
       "2      -0.150472  0.027843 -0.566348 -0.031005  1.943800  0.474035  0.053593   \n",
       "3       1.511375  0.027843 -0.566348 -0.031005  1.943800  0.858718  0.053593   \n",
       "4       1.521487  0.027843 -0.566348 -0.031005 -0.388469  0.983599  0.053593   \n",
       "...          ...       ...       ...       ...       ...       ...       ...   \n",
       "398022  1.214737  0.027843  1.396915 -0.031005 -0.388469  0.962920  0.053593   \n",
       "398023 -1.154996  0.027843 -0.566348 -0.031005 -0.388469 -3.571962  0.053593   \n",
       "398024 -0.824649  0.027843  1.396915 -0.031005 -0.388469 -0.148164  0.053593   \n",
       "398025  0.169762  0.027843 -0.566348 -0.031005  3.109935  0.473633  0.053593   \n",
       "398026  0.840569  0.027843 -0.566348 -0.031005 -0.388469  0.866147  0.053593   \n",
       "\n",
       "             7         8         9   ...        12        13        14  \\\n",
       "0      -0.21406  0.977541  1.178455  ... -0.857252  0.118676  0.122534   \n",
       "1      -0.21406  0.189131 -1.083422  ... -0.501327  0.118676  0.122534   \n",
       "2      -0.21406  0.511365 -0.329463  ... -0.173876  0.118676  0.122534   \n",
       "3      -0.21406  0.674936 -1.083422  ...  1.961674  0.205431  0.205431   \n",
       "4      -0.21406  0.990627  0.424496  ... -0.857252  0.226601  0.226601   \n",
       "...         ...       ...       ...  ...       ...       ...       ...   \n",
       "398022 -0.21406  0.974270  1.178455  ... -0.316246  0.098039  0.259902   \n",
       "398023 -0.21406 -3.162430  1.178455  ... -0.971148  0.118676  0.122534   \n",
       "398024 -0.21406 -0.084032  1.178455  ... -0.857252  0.279920  0.274641   \n",
       "398025 -0.21406  0.511365 -0.329463  ... -0.173876  0.118676  0.122534   \n",
       "398026 -0.21406  0.905570 -1.083422  ...  1.961674  0.118676  0.122534   \n",
       "\n",
       "              15        16        17        18        19        20        21  \n",
       "0       0.128107  0.096774  0.137589  0.107822  0.173962  0.169466  0.066372  \n",
       "1       0.128107  0.190255  0.190310  0.107822  0.169466  0.169466  0.156863  \n",
       "2       0.128107  0.020908  0.025073  0.107822  0.173962  0.000000  0.017324  \n",
       "3       0.207211  0.198195  0.194486  0.198797  0.173962  0.166667  0.139461  \n",
       "4       0.286907  0.198195  0.194486  0.198797  0.173962  0.169466  0.220832  \n",
       "...          ...       ...       ...       ...       ...       ...       ...  \n",
       "398022  0.178302  0.198195  0.194486  0.198797  0.173962  0.107311  0.089686  \n",
       "398023  0.128107  0.186658  0.181861  0.095038  0.169466  0.000000  0.193849  \n",
       "398024  0.178294  0.198191  0.194482  0.198793  0.173959  0.169466  0.135950  \n",
       "398025  0.128107  0.020908  0.025073  0.107822  0.173962  0.000000  0.017324  \n",
       "398026  0.128107  0.069521  0.071309  0.107822  0.173962  0.169466  0.143956  \n",
       "\n",
       "[398027 rows x 22 columns]"
      ]
     },
     "execution_count": 24,
     "metadata": {},
     "output_type": "execute_result"
    }
   ],
   "source": [
    "X_train_std"
   ]
  },
  {
   "cell_type": "markdown",
   "id": "c39012b6-284c-4c2c-b56d-8a877aeee9e0",
   "metadata": {},
   "source": [
    "# Feature Selection-Filter Method"
   ]
  },
  {
   "cell_type": "markdown",
   "id": "457d8270-716e-467e-928b-f2443212417f",
   "metadata": {},
   "source": [
    "# ANOVA"
   ]
  },
  {
   "cell_type": "code",
   "execution_count": 25,
   "id": "47dd3d60-f2f6-46a7-a221-4dcc48ad76ba",
   "metadata": {},
   "outputs": [
    {
     "data": {
      "text/plain": [
       "SelectKBest(k=22)"
      ]
     },
     "execution_count": 25,
     "metadata": {},
     "output_type": "execute_result"
    }
   ],
   "source": [
    "from sklearn.feature_selection import SelectKBest\n",
    "from sklearn.feature_selection import f_classif\n",
    "selector = SelectKBest(f_classif, k=22)\n",
    "selector.fit(X_train_std, y_train)"
   ]
  },
  {
   "cell_type": "code",
   "execution_count": 26,
   "id": "40a6634c-aec4-4c27-803f-cbceaa91eb87",
   "metadata": {},
   "outputs": [
    {
     "data": {
      "text/plain": [
       "array([ 0,  1,  2,  3,  4,  5,  6,  7,  8,  9, 10, 11, 12, 13, 14, 15, 16,\n",
       "       17, 18, 19, 20, 21], dtype=int64)"
      ]
     },
     "execution_count": 26,
     "metadata": {},
     "output_type": "execute_result"
    }
   ],
   "source": [
    "cols = selector.get_support(indices=True)\n",
    "cols"
   ]
  },
  {
   "cell_type": "code",
   "execution_count": 31,
   "id": "d17b24d9-ea02-431b-a837-d78045f133a8",
   "metadata": {},
   "outputs": [
    {
     "data": {
      "text/html": [
       "<div>\n",
       "<style scoped>\n",
       "    .dataframe tbody tr th:only-of-type {\n",
       "        vertical-align: middle;\n",
       "    }\n",
       "\n",
       "    .dataframe tbody tr th {\n",
       "        vertical-align: top;\n",
       "    }\n",
       "\n",
       "    .dataframe thead th {\n",
       "        text-align: right;\n",
       "    }\n",
       "</style>\n",
       "<table border=\"1\" class=\"dataframe\">\n",
       "  <thead>\n",
       "    <tr style=\"text-align: right;\">\n",
       "      <th></th>\n",
       "      <th>hour</th>\n",
       "      <th>C1</th>\n",
       "      <th>banner_pos</th>\n",
       "      <th>site_id</th>\n",
       "      <th>site_domain</th>\n",
       "      <th>site_category</th>\n",
       "      <th>app_id</th>\n",
       "      <th>app_domain</th>\n",
       "      <th>app_category</th>\n",
       "      <th>device_id</th>\n",
       "      <th>...</th>\n",
       "      <th>device_type</th>\n",
       "      <th>device_conn_type</th>\n",
       "      <th>C14</th>\n",
       "      <th>C15</th>\n",
       "      <th>C16</th>\n",
       "      <th>C17</th>\n",
       "      <th>C18</th>\n",
       "      <th>C19</th>\n",
       "      <th>C20</th>\n",
       "      <th>C21</th>\n",
       "    </tr>\n",
       "  </thead>\n",
       "  <tbody>\n",
       "    <tr>\n",
       "      <th>416955</th>\n",
       "      <td>14102909</td>\n",
       "      <td>1005</td>\n",
       "      <td>0</td>\n",
       "      <td>85f751fd</td>\n",
       "      <td>c4e18dd6</td>\n",
       "      <td>50e219e0</td>\n",
       "      <td>431a0d44</td>\n",
       "      <td>2347f47a</td>\n",
       "      <td>0f2161f8</td>\n",
       "      <td>a99f214a</td>\n",
       "      <td>...</td>\n",
       "      <td>1</td>\n",
       "      <td>2</td>\n",
       "      <td>23642</td>\n",
       "      <td>320</td>\n",
       "      <td>50</td>\n",
       "      <td>2709</td>\n",
       "      <td>3</td>\n",
       "      <td>35</td>\n",
       "      <td>-1</td>\n",
       "      <td>23</td>\n",
       "    </tr>\n",
       "    <tr>\n",
       "      <th>178611</th>\n",
       "      <td>14102408</td>\n",
       "      <td>1005</td>\n",
       "      <td>0</td>\n",
       "      <td>85f751fd</td>\n",
       "      <td>c4e18dd6</td>\n",
       "      <td>50e219e0</td>\n",
       "      <td>e2fcccd2</td>\n",
       "      <td>5c5a694b</td>\n",
       "      <td>0f2161f8</td>\n",
       "      <td>e985c59c</td>\n",
       "      <td>...</td>\n",
       "      <td>1</td>\n",
       "      <td>0</td>\n",
       "      <td>19771</td>\n",
       "      <td>320</td>\n",
       "      <td>50</td>\n",
       "      <td>2227</td>\n",
       "      <td>0</td>\n",
       "      <td>679</td>\n",
       "      <td>100075</td>\n",
       "      <td>48</td>\n",
       "    </tr>\n",
       "    <tr>\n",
       "      <th>228685</th>\n",
       "      <td>14102514</td>\n",
       "      <td>1005</td>\n",
       "      <td>0</td>\n",
       "      <td>85f751fd</td>\n",
       "      <td>c4e18dd6</td>\n",
       "      <td>50e219e0</td>\n",
       "      <td>92f5800b</td>\n",
       "      <td>ae637522</td>\n",
       "      <td>0f2161f8</td>\n",
       "      <td>a99f214a</td>\n",
       "      <td>...</td>\n",
       "      <td>1</td>\n",
       "      <td>2</td>\n",
       "      <td>21191</td>\n",
       "      <td>320</td>\n",
       "      <td>50</td>\n",
       "      <td>2424</td>\n",
       "      <td>1</td>\n",
       "      <td>161</td>\n",
       "      <td>100191</td>\n",
       "      <td>71</td>\n",
       "    </tr>\n",
       "    <tr>\n",
       "      <th>460561</th>\n",
       "      <td>14103007</td>\n",
       "      <td>1005</td>\n",
       "      <td>0</td>\n",
       "      <td>1fbe01fe</td>\n",
       "      <td>f3845767</td>\n",
       "      <td>28905ebd</td>\n",
       "      <td>ecad2386</td>\n",
       "      <td>7801e8d9</td>\n",
       "      <td>07d7df22</td>\n",
       "      <td>a99f214a</td>\n",
       "      <td>...</td>\n",
       "      <td>1</td>\n",
       "      <td>2</td>\n",
       "      <td>23107</td>\n",
       "      <td>320</td>\n",
       "      <td>50</td>\n",
       "      <td>2524</td>\n",
       "      <td>0</td>\n",
       "      <td>167</td>\n",
       "      <td>-1</td>\n",
       "      <td>221</td>\n",
       "    </tr>\n",
       "    <tr>\n",
       "      <th>468136</th>\n",
       "      <td>14103010</td>\n",
       "      <td>1005</td>\n",
       "      <td>0</td>\n",
       "      <td>d8bb8687</td>\n",
       "      <td>98e6755b</td>\n",
       "      <td>3e814130</td>\n",
       "      <td>ecad2386</td>\n",
       "      <td>7801e8d9</td>\n",
       "      <td>07d7df22</td>\n",
       "      <td>a99f214a</td>\n",
       "      <td>...</td>\n",
       "      <td>1</td>\n",
       "      <td>0</td>\n",
       "      <td>23729</td>\n",
       "      <td>320</td>\n",
       "      <td>50</td>\n",
       "      <td>2717</td>\n",
       "      <td>2</td>\n",
       "      <td>47</td>\n",
       "      <td>-1</td>\n",
       "      <td>23</td>\n",
       "    </tr>\n",
       "    <tr>\n",
       "      <th>...</th>\n",
       "      <td>...</td>\n",
       "      <td>...</td>\n",
       "      <td>...</td>\n",
       "      <td>...</td>\n",
       "      <td>...</td>\n",
       "      <td>...</td>\n",
       "      <td>...</td>\n",
       "      <td>...</td>\n",
       "      <td>...</td>\n",
       "      <td>...</td>\n",
       "      <td>...</td>\n",
       "      <td>...</td>\n",
       "      <td>...</td>\n",
       "      <td>...</td>\n",
       "      <td>...</td>\n",
       "      <td>...</td>\n",
       "      <td>...</td>\n",
       "      <td>...</td>\n",
       "      <td>...</td>\n",
       "      <td>...</td>\n",
       "      <td>...</td>\n",
       "    </tr>\n",
       "    <tr>\n",
       "      <th>439985</th>\n",
       "      <td>14102919</td>\n",
       "      <td>1005</td>\n",
       "      <td>1</td>\n",
       "      <td>ce3307ec</td>\n",
       "      <td>7e091613</td>\n",
       "      <td>f028772b</td>\n",
       "      <td>ecad2386</td>\n",
       "      <td>7801e8d9</td>\n",
       "      <td>07d7df22</td>\n",
       "      <td>a99f214a</td>\n",
       "      <td>...</td>\n",
       "      <td>1</td>\n",
       "      <td>0</td>\n",
       "      <td>23626</td>\n",
       "      <td>320</td>\n",
       "      <td>50</td>\n",
       "      <td>2707</td>\n",
       "      <td>3</td>\n",
       "      <td>937</td>\n",
       "      <td>100156</td>\n",
       "      <td>61</td>\n",
       "    </tr>\n",
       "    <tr>\n",
       "      <th>103024</th>\n",
       "      <td>14102216</td>\n",
       "      <td>1005</td>\n",
       "      <td>0</td>\n",
       "      <td>85f751fd</td>\n",
       "      <td>c4e18dd6</td>\n",
       "      <td>50e219e0</td>\n",
       "      <td>7358e05e</td>\n",
       "      <td>b9528b13</td>\n",
       "      <td>cef3e649</td>\n",
       "      <td>99145f53</td>\n",
       "      <td>...</td>\n",
       "      <td>1</td>\n",
       "      <td>0</td>\n",
       "      <td>1039</td>\n",
       "      <td>320</td>\n",
       "      <td>50</td>\n",
       "      <td>178</td>\n",
       "      <td>3</td>\n",
       "      <td>1327</td>\n",
       "      <td>100148</td>\n",
       "      <td>15</td>\n",
       "    </tr>\n",
       "    <tr>\n",
       "      <th>147629</th>\n",
       "      <td>14102314</td>\n",
       "      <td>1005</td>\n",
       "      <td>1</td>\n",
       "      <td>d9750ee7</td>\n",
       "      <td>98572c79</td>\n",
       "      <td>f028772b</td>\n",
       "      <td>ecad2386</td>\n",
       "      <td>7801e8d9</td>\n",
       "      <td>07d7df22</td>\n",
       "      <td>a99f214a</td>\n",
       "      <td>...</td>\n",
       "      <td>1</td>\n",
       "      <td>0</td>\n",
       "      <td>18092</td>\n",
       "      <td>320</td>\n",
       "      <td>50</td>\n",
       "      <td>2060</td>\n",
       "      <td>3</td>\n",
       "      <td>39</td>\n",
       "      <td>-1</td>\n",
       "      <td>23</td>\n",
       "    </tr>\n",
       "    <tr>\n",
       "      <th>263388</th>\n",
       "      <td>14102609</td>\n",
       "      <td>1005</td>\n",
       "      <td>0</td>\n",
       "      <td>85f751fd</td>\n",
       "      <td>c4e18dd6</td>\n",
       "      <td>50e219e0</td>\n",
       "      <td>92f5800b</td>\n",
       "      <td>ae637522</td>\n",
       "      <td>0f2161f8</td>\n",
       "      <td>a99f214a</td>\n",
       "      <td>...</td>\n",
       "      <td>1</td>\n",
       "      <td>3</td>\n",
       "      <td>21189</td>\n",
       "      <td>320</td>\n",
       "      <td>50</td>\n",
       "      <td>2424</td>\n",
       "      <td>1</td>\n",
       "      <td>161</td>\n",
       "      <td>100190</td>\n",
       "      <td>71</td>\n",
       "    </tr>\n",
       "    <tr>\n",
       "      <th>349053</th>\n",
       "      <td>14102808</td>\n",
       "      <td>1005</td>\n",
       "      <td>0</td>\n",
       "      <td>85f751fd</td>\n",
       "      <td>c4e18dd6</td>\n",
       "      <td>50e219e0</td>\n",
       "      <td>d36838b1</td>\n",
       "      <td>0e8616ad</td>\n",
       "      <td>0f2161f8</td>\n",
       "      <td>a99f214a</td>\n",
       "      <td>...</td>\n",
       "      <td>1</td>\n",
       "      <td>0</td>\n",
       "      <td>23144</td>\n",
       "      <td>320</td>\n",
       "      <td>50</td>\n",
       "      <td>2665</td>\n",
       "      <td>0</td>\n",
       "      <td>34</td>\n",
       "      <td>-1</td>\n",
       "      <td>221</td>\n",
       "    </tr>\n",
       "  </tbody>\n",
       "</table>\n",
       "<p>398027 rows × 22 columns</p>\n",
       "</div>"
      ],
      "text/plain": [
       "            hour    C1  banner_pos   site_id site_domain site_category  \\\n",
       "416955  14102909  1005           0  85f751fd    c4e18dd6      50e219e0   \n",
       "178611  14102408  1005           0  85f751fd    c4e18dd6      50e219e0   \n",
       "228685  14102514  1005           0  85f751fd    c4e18dd6      50e219e0   \n",
       "460561  14103007  1005           0  1fbe01fe    f3845767      28905ebd   \n",
       "468136  14103010  1005           0  d8bb8687    98e6755b      3e814130   \n",
       "...          ...   ...         ...       ...         ...           ...   \n",
       "439985  14102919  1005           1  ce3307ec    7e091613      f028772b   \n",
       "103024  14102216  1005           0  85f751fd    c4e18dd6      50e219e0   \n",
       "147629  14102314  1005           1  d9750ee7    98572c79      f028772b   \n",
       "263388  14102609  1005           0  85f751fd    c4e18dd6      50e219e0   \n",
       "349053  14102808  1005           0  85f751fd    c4e18dd6      50e219e0   \n",
       "\n",
       "          app_id app_domain app_category device_id  ... device_type  \\\n",
       "416955  431a0d44   2347f47a     0f2161f8  a99f214a  ...           1   \n",
       "178611  e2fcccd2   5c5a694b     0f2161f8  e985c59c  ...           1   \n",
       "228685  92f5800b   ae637522     0f2161f8  a99f214a  ...           1   \n",
       "460561  ecad2386   7801e8d9     07d7df22  a99f214a  ...           1   \n",
       "468136  ecad2386   7801e8d9     07d7df22  a99f214a  ...           1   \n",
       "...          ...        ...          ...       ...  ...         ...   \n",
       "439985  ecad2386   7801e8d9     07d7df22  a99f214a  ...           1   \n",
       "103024  7358e05e   b9528b13     cef3e649  99145f53  ...           1   \n",
       "147629  ecad2386   7801e8d9     07d7df22  a99f214a  ...           1   \n",
       "263388  92f5800b   ae637522     0f2161f8  a99f214a  ...           1   \n",
       "349053  d36838b1   0e8616ad     0f2161f8  a99f214a  ...           1   \n",
       "\n",
       "       device_conn_type    C14  C15  C16   C17  C18   C19     C20  C21  \n",
       "416955                2  23642  320   50  2709    3    35      -1   23  \n",
       "178611                0  19771  320   50  2227    0   679  100075   48  \n",
       "228685                2  21191  320   50  2424    1   161  100191   71  \n",
       "460561                2  23107  320   50  2524    0   167      -1  221  \n",
       "468136                0  23729  320   50  2717    2    47      -1   23  \n",
       "...                 ...    ...  ...  ...   ...  ...   ...     ...  ...  \n",
       "439985                0  23626  320   50  2707    3   937  100156   61  \n",
       "103024                0   1039  320   50   178    3  1327  100148   15  \n",
       "147629                0  18092  320   50  2060    3    39      -1   23  \n",
       "263388                3  21189  320   50  2424    1   161  100190   71  \n",
       "349053                0  23144  320   50  2665    0    34      -1  221  \n",
       "\n",
       "[398027 rows x 22 columns]"
      ]
     },
     "execution_count": 31,
     "metadata": {},
     "output_type": "execute_result"
    }
   ],
   "source": [
    "x_train_s"
   ]
  },
  {
   "cell_type": "markdown",
   "id": "6c05ba3d-d64a-4bc3-899f-ccf5eebb5923",
   "metadata": {},
   "source": [
    "# 1.Logistic Regression"
   ]
  },
  {
   "cell_type": "code",
   "execution_count": 7,
   "id": "99847fb0-bf4d-4848-8423-ebe1086f1631",
   "metadata": {},
   "outputs": [],
   "source": [
    "import pandas as pd\n",
    "import numpy as np\n",
    "from statsmodels.formula.api import ols,glm\n",
    "from sklearn.linear_model import LinearRegression, LogisticRegression, Ridge, Lasso, ElasticNet\n",
    "from sklearn.linear_model import LinearRegression, Ridge, Lasso, ElasticNet, SGDRegressor, SGDClassifier\n",
    "from sklearn.model_selection import train_test_split, KFold, StratifiedKFold, GridSearchCV, RandomizedSearchCV\n",
    "from sklearn.metrics import accuracy_score, mean_absolute_error, mean_squared_error\n",
    "from sklearn.preprocessing import StandardScaler\n",
    "from sklearn.ensemble import RandomForestClassifier\n",
    "from sklearn.pipeline import Pipeline\n",
    "from sklearn.compose import ColumnTransformer\n",
    "from sklearn.impute import SimpleImputer\n",
    "from sklearn.preprocessing import OneHotEncoder, OrdinalEncoder\n",
    "import statsmodels.api as sm\n",
    "import category_encoders as ce\n",
    "import seaborn as sns\n",
    "import matplotlib.pyplot as plt\n",
    "%matplotlib inline \n",
    "import warnings\n",
    "warnings.filterwarnings(\"ignore\")\n",
    "from sklearn.preprocessing import LabelEncoder\n",
    "from collections import defaultdict"
   ]
  },
  {
   "cell_type": "code",
   "execution_count": 29,
   "id": "4f629257-a574-4c85-9bed-1486cb6d70ca",
   "metadata": {},
   "outputs": [],
   "source": [
    "lr = LogisticRegression(random_state=2022)"
   ]
  },
  {
   "cell_type": "code",
   "execution_count": 30,
   "id": "3d9c6b99-f376-4e70-9f0f-bb150bbd05c3",
   "metadata": {},
   "outputs": [],
   "source": [
    "penalty = ['l1', 'l2','elasticnet']\n",
    "solver = ['newton-cg', 'lbfgs', 'liblinear', 'sag', 'saga']"
   ]
  },
  {
   "cell_type": "code",
   "execution_count": 31,
   "id": "75ed654a-73f5-45b4-85ca-90f705307f22",
   "metadata": {},
   "outputs": [],
   "source": [
    "parameter_lr = dict(penalty=penalty, solver=solver)"
   ]
  },
  {
   "cell_type": "code",
   "execution_count": 32,
   "id": "2e045435-cf18-4bb7-aef2-1cbd5d2d3b7d",
   "metadata": {},
   "outputs": [
    {
     "data": {
      "text/plain": [
       "{'penalty': ['l1', 'l2', 'elasticnet'],\n",
       " 'solver': ['newton-cg', 'lbfgs', 'liblinear', 'sag', 'saga']}"
      ]
     },
     "execution_count": 32,
     "metadata": {},
     "output_type": "execute_result"
    }
   ],
   "source": [
    "parameter_lr"
   ]
  },
  {
   "cell_type": "code",
   "execution_count": 33,
   "id": "f46df33b-2e72-4074-9942-4ced9602e704",
   "metadata": {},
   "outputs": [],
   "source": [
    "lr_random = RandomizedSearchCV( estimator = lr, param_distributions = parameter_lr, n_iter=20, n_jobs=-1,random_state=2022)"
   ]
  },
  {
   "cell_type": "code",
   "execution_count": 36,
   "id": "289d570c-dc4a-45c7-b2ec-64251618e2d4",
   "metadata": {},
   "outputs": [
    {
     "data": {
      "text/plain": [
       "LogisticRegression(random_state=2022)"
      ]
     },
     "execution_count": 36,
     "metadata": {},
     "output_type": "execute_result"
    }
   ],
   "source": [
    "lr_random.best_estimator_"
   ]
  },
  {
   "cell_type": "code",
   "execution_count": 35,
   "id": "969372c4-fd9a-4709-ba45-f891093a1685",
   "metadata": {},
   "outputs": [
    {
     "data": {
      "text/plain": [
       "RandomizedSearchCV(estimator=LogisticRegression(random_state=2022), n_iter=20,\n",
       "                   n_jobs=-1,\n",
       "                   param_distributions={'penalty': ['l1', 'l2', 'elasticnet'],\n",
       "                                        'solver': ['newton-cg', 'lbfgs',\n",
       "                                                   'liblinear', 'sag',\n",
       "                                                   'saga']},\n",
       "                   random_state=2022)"
      ]
     },
     "execution_count": 35,
     "metadata": {},
     "output_type": "execute_result"
    }
   ],
   "source": [
    "lr_random.fit(X_train_std, y_train)"
   ]
  },
  {
   "cell_type": "code",
   "execution_count": 37,
   "id": "0cdf39d9-80e3-4981-81a2-738ab727f7c7",
   "metadata": {},
   "outputs": [],
   "source": [
    "y_pred=lr_random.predict(X_test_std)"
   ]
  },
  {
   "cell_type": "code",
   "execution_count": 38,
   "id": "29018a0a-8283-4096-ad23-8189a5dd3677",
   "metadata": {},
   "outputs": [
    {
     "data": {
      "text/html": [
       "<div>\n",
       "<style scoped>\n",
       "    .dataframe tbody tr th:only-of-type {\n",
       "        vertical-align: middle;\n",
       "    }\n",
       "\n",
       "    .dataframe tbody tr th {\n",
       "        vertical-align: top;\n",
       "    }\n",
       "\n",
       "    .dataframe thead th {\n",
       "        text-align: right;\n",
       "    }\n",
       "</style>\n",
       "<table border=\"1\" class=\"dataframe\">\n",
       "  <thead>\n",
       "    <tr style=\"text-align: right;\">\n",
       "      <th>col_0</th>\n",
       "      <th>0</th>\n",
       "      <th>1</th>\n",
       "    </tr>\n",
       "    <tr>\n",
       "      <th>click</th>\n",
       "      <th></th>\n",
       "      <th></th>\n",
       "    </tr>\n",
       "  </thead>\n",
       "  <tbody>\n",
       "    <tr>\n",
       "      <th>0</th>\n",
       "      <td>81757</td>\n",
       "      <td>972</td>\n",
       "    </tr>\n",
       "    <tr>\n",
       "      <th>1</th>\n",
       "      <td>15745</td>\n",
       "      <td>1033</td>\n",
       "    </tr>\n",
       "  </tbody>\n",
       "</table>\n",
       "</div>"
      ],
      "text/plain": [
       "col_0      0     1\n",
       "click             \n",
       "0      81757   972\n",
       "1      15745  1033"
      ]
     },
     "execution_count": 38,
     "metadata": {},
     "output_type": "execute_result"
    }
   ],
   "source": [
    "pd.crosstab(y_test,lr_random.predict(X_test_std))"
   ]
  },
  {
   "cell_type": "code",
   "execution_count": 48,
   "id": "c8c55c08-6748-48d7-b6cb-521671959b07",
   "metadata": {},
   "outputs": [],
   "source": [
    "from sklearn.metrics import accuracy_score, recall_score, precision_score"
   ]
  },
  {
   "cell_type": "code",
   "execution_count": 49,
   "id": "1b673f14-fb76-4497-b451-63a3cf3191cb",
   "metadata": {},
   "outputs": [],
   "source": [
    "from sklearn import metrics"
   ]
  },
  {
   "cell_type": "code",
   "execution_count": 43,
   "id": "85fe0285-f8e9-4429-b3bc-ee3c0e9d833b",
   "metadata": {},
   "outputs": [
    {
     "data": {
      "text/plain": [
       "0.8320017687197886"
      ]
     },
     "execution_count": 43,
     "metadata": {},
     "output_type": "execute_result"
    }
   ],
   "source": [
    "accuracy_score(y_pred,y_test)"
   ]
  },
  {
   "cell_type": "code",
   "execution_count": 44,
   "id": "9b7a83d9-518c-4f0a-9b51-ca5be4b14383",
   "metadata": {},
   "outputs": [
    {
     "data": {
      "text/plain": [
       "0.06156872094409346"
      ]
     },
     "execution_count": 44,
     "metadata": {},
     "output_type": "execute_result"
    }
   ],
   "source": [
    "recall_score(y_test,y_pred)"
   ]
  },
  {
   "cell_type": "code",
   "execution_count": 45,
   "id": "6eef7d98-04b9-41fe-bdf1-ec2bce81b4f5",
   "metadata": {},
   "outputs": [
    {
     "data": {
      "text/plain": [
       "0.515211970074813"
      ]
     },
     "execution_count": 45,
     "metadata": {},
     "output_type": "execute_result"
    }
   ],
   "source": [
    "precision_score(y_test,y_pred)"
   ]
  },
  {
   "cell_type": "code",
   "execution_count": 50,
   "id": "9d07341d-0182-42aa-8474-1ad283a87b24",
   "metadata": {},
   "outputs": [
    {
     "name": "stdout",
     "output_type": "stream",
     "text": [
      "              precision    recall  f1-score   support\n",
      "\n",
      "           0       0.84      0.99      0.91     82729\n",
      "           1       0.52      0.06      0.11     16778\n",
      "\n",
      "    accuracy                           0.83     99507\n",
      "   macro avg       0.68      0.52      0.51     99507\n",
      "weighted avg       0.78      0.83      0.77     99507\n",
      "\n"
     ]
    }
   ],
   "source": [
    "print(metrics.classification_report(y_test,lr_random.predict(X_test_std)))"
   ]
  },
  {
   "cell_type": "markdown",
   "id": "90f34fce-fb6d-4878-9080-9082c3d8ff8c",
   "metadata": {},
   "source": [
    "# 2.Random Forest"
   ]
  },
  {
   "cell_type": "code",
   "execution_count": 51,
   "id": "767ac12f-42df-4889-bd50-f92080c05593",
   "metadata": {},
   "outputs": [],
   "source": [
    "rf = RandomForestClassifier(oob_score=True,random_state=2022)"
   ]
  },
  {
   "cell_type": "code",
   "execution_count": 52,
   "id": "18b398ad-7f4a-45fd-9337-7d8060fead99",
   "metadata": {},
   "outputs": [],
   "source": [
    "n_estimators = [20,30,40,50]\n",
    "criterion = ['gini','entropy']\n",
    "min_samples_split = [30,35,40]\n",
    "min_samples_leaf = [15,20,25]\n",
    "max_features = ['sqrt','log2']"
   ]
  },
  {
   "cell_type": "code",
   "execution_count": 53,
   "id": "4b182ee7-f441-44b8-8fe7-53a3cd170282",
   "metadata": {},
   "outputs": [],
   "source": [
    "param_rf = dict(n_estimators=n_estimators,criterion=criterion,min_samples_split=min_samples_split,min_samples_leaf=min_samples_leaf,max_features=max_features)"
   ]
  },
  {
   "cell_type": "code",
   "execution_count": 54,
   "id": "5beb80a3-19b4-442d-9394-d3bf876c7f18",
   "metadata": {},
   "outputs": [
    {
     "data": {
      "text/plain": [
       "{'n_estimators': [20, 30, 40, 50],\n",
       " 'criterion': ['gini', 'entropy'],\n",
       " 'min_samples_split': [30, 35, 40],\n",
       " 'min_samples_leaf': [15, 20, 25],\n",
       " 'max_features': ['sqrt', 'log2']}"
      ]
     },
     "execution_count": 54,
     "metadata": {},
     "output_type": "execute_result"
    }
   ],
   "source": [
    "param_rf"
   ]
  },
  {
   "cell_type": "code",
   "execution_count": 55,
   "id": "8ca4bb96-3abe-4a26-94a0-ab7b8ae95015",
   "metadata": {},
   "outputs": [],
   "source": [
    "rf_random = RandomizedSearchCV(estimator = rf, param_distributions=param_rf,n_iter=20,n_jobs=-1,random_state=2022)"
   ]
  },
  {
   "cell_type": "code",
   "execution_count": 56,
   "id": "c52f98bf-da97-446b-bcc1-5406797745d3",
   "metadata": {},
   "outputs": [],
   "source": [
    "forest=rf_random.fit(X_train_std, y_train)"
   ]
  },
  {
   "cell_type": "code",
   "execution_count": 57,
   "id": "bffadf03-ddcc-4e2a-b279-910f5b219ff0",
   "metadata": {},
   "outputs": [],
   "source": [
    "fm_f=forest.best_estimator_"
   ]
  },
  {
   "cell_type": "code",
   "execution_count": 58,
   "id": "2609ef6c-0ab7-49b9-8897-08b4bf8b7a78",
   "metadata": {},
   "outputs": [],
   "source": [
    "y_pred=forest.predict(X_test_std)"
   ]
  },
  {
   "cell_type": "code",
   "execution_count": 59,
   "id": "c9d2f9da-7a90-47f3-b230-cad41f69dd04",
   "metadata": {},
   "outputs": [
    {
     "data": {
      "text/html": [
       "<div>\n",
       "<style scoped>\n",
       "    .dataframe tbody tr th:only-of-type {\n",
       "        vertical-align: middle;\n",
       "    }\n",
       "\n",
       "    .dataframe tbody tr th {\n",
       "        vertical-align: top;\n",
       "    }\n",
       "\n",
       "    .dataframe thead th {\n",
       "        text-align: right;\n",
       "    }\n",
       "</style>\n",
       "<table border=\"1\" class=\"dataframe\">\n",
       "  <thead>\n",
       "    <tr style=\"text-align: right;\">\n",
       "      <th>col_0</th>\n",
       "      <th>0</th>\n",
       "      <th>1</th>\n",
       "    </tr>\n",
       "    <tr>\n",
       "      <th>click</th>\n",
       "      <th></th>\n",
       "      <th></th>\n",
       "    </tr>\n",
       "  </thead>\n",
       "  <tbody>\n",
       "    <tr>\n",
       "      <th>0</th>\n",
       "      <td>32025</td>\n",
       "      <td>50704</td>\n",
       "    </tr>\n",
       "    <tr>\n",
       "      <th>1</th>\n",
       "      <td>4284</td>\n",
       "      <td>12494</td>\n",
       "    </tr>\n",
       "  </tbody>\n",
       "</table>\n",
       "</div>"
      ],
      "text/plain": [
       "col_0      0      1\n",
       "click              \n",
       "0      32025  50704\n",
       "1       4284  12494"
      ]
     },
     "execution_count": 59,
     "metadata": {},
     "output_type": "execute_result"
    }
   ],
   "source": [
    "pd.crosstab(y_test,y_pred)"
   ]
  },
  {
   "cell_type": "code",
   "execution_count": 60,
   "id": "b8a9ee40-78ab-4653-9a99-2ea754304379",
   "metadata": {},
   "outputs": [
    {
     "data": {
      "text/plain": [
       "0.4473956606067915"
      ]
     },
     "execution_count": 60,
     "metadata": {},
     "output_type": "execute_result"
    }
   ],
   "source": [
    "accuracy_score(y_test,y_pred)"
   ]
  },
  {
   "cell_type": "code",
   "execution_count": 61,
   "id": "58b3227b-c4ae-4d08-b988-45551477bca4",
   "metadata": {},
   "outputs": [
    {
     "data": {
      "text/plain": [
       "0.7446656335677673"
      ]
     },
     "execution_count": 61,
     "metadata": {},
     "output_type": "execute_result"
    }
   ],
   "source": [
    "recall_score(y_test,y_pred)"
   ]
  },
  {
   "cell_type": "code",
   "execution_count": 62,
   "id": "1b35c868-0f46-4eb6-8663-5388c89bb1b9",
   "metadata": {},
   "outputs": [
    {
     "data": {
      "text/plain": [
       "0.1976961296243552"
      ]
     },
     "execution_count": 62,
     "metadata": {},
     "output_type": "execute_result"
    }
   ],
   "source": [
    "precision_score(y_test,y_pred)"
   ]
  },
  {
   "cell_type": "code",
   "execution_count": 63,
   "id": "bb663642-2e2d-45e7-826f-07da28efda12",
   "metadata": {},
   "outputs": [
    {
     "name": "stdout",
     "output_type": "stream",
     "text": [
      "              precision    recall  f1-score   support\n",
      "\n",
      "           0       0.88      0.39      0.54     82729\n",
      "           1       0.20      0.74      0.31     16778\n",
      "\n",
      "    accuracy                           0.45     99507\n",
      "   macro avg       0.54      0.57      0.43     99507\n",
      "weighted avg       0.77      0.45      0.50     99507\n",
      "\n"
     ]
    }
   ],
   "source": [
    "print(metrics.classification_report(y_test,rf_random.predict(X_test_std)))"
   ]
  },
  {
   "cell_type": "code",
   "execution_count": 64,
   "id": "5e5b2633-6648-4371-ab44-a96c891ff76f",
   "metadata": {},
   "outputs": [
    {
     "data": {
      "image/png": "[encoded data removed]",
      "text/plain": [
       "<Figure size 432x288 with 1 Axes>"
      ]
     },
     "metadata": {
      "needs_background": "light"
     },
     "output_type": "display_data"
    }
   ],
   "source": [
    "import matplotlib.pyplot as plt\n",
    "importances=fm_f.feature_importances_\n",
    "sorted_indices = np.argsort(importances)[::-1]\n",
    " \n",
    "feat_labels = da.columns[1:]\n",
    " \n",
    "plt.title('Random Forest Feature Importance')\n",
    "plt.bar(range(X_train.shape[1]), importances[sorted_indices], align='center')\n",
    "plt.xticks(range(X_train.shape[1]), X_train.columns[sorted_indices], rotation=90)\n",
    "plt.tight_layout()\n",
    "plt.show()"
   ]
  },
  {
   "cell_type": "markdown",
   "id": "65cc1953-43be-47f8-be0b-900db0548ea0",
   "metadata": {},
   "source": [
    "# 3.XGBoost"
   ]
  },
  {
   "cell_type": "code",
   "execution_count": 65,
   "id": "fa0d949d-0d78-486c-9930-fa2eb31c31ca",
   "metadata": {},
   "outputs": [],
   "source": [
    "from xgboost import XGBClassifier"
   ]
  },
  {
   "cell_type": "code",
   "execution_count": 66,
   "id": "c0707fa3-5c27-4727-a9df-64d1cc38a3b3",
   "metadata": {},
   "outputs": [],
   "source": [
    "xgb = XGBClassifier()"
   ]
  },
  {
   "cell_type": "code",
   "execution_count": 67,
   "id": "e7bb028f-cd10-42b6-860b-e223679f90d1",
   "metadata": {},
   "outputs": [],
   "source": [
    "gbm_param = {\n",
    "    \n",
    "    'xgb__n_estimators' : [10,20,30,40,50],\n",
    "    \n",
    "    'xgb__max_depth' : [3,4,5],\n",
    "    \n",
    "    'xgb__learning_rate' : [.1,.2,.8,1,10],\n",
    "    \n",
    "    'xgb__gamma' : [.02,.03,.04, .05,.8],\n",
    "    \n",
    "    'xgb__colsample_bytree' : [.4,.5,.7]\n",
    "    \n",
    "}"
   ]
  },
  {
   "cell_type": "code",
   "execution_count": 68,
   "id": "48901293-e6a3-467b-8b30-5399c05da9b6",
   "metadata": {},
   "outputs": [],
   "source": [
    "rscv_gbm = RandomizedSearchCV(estimator=xgb,scoring='neg_mean_squared_error',param_distributions=gbm_param,cv=5,n_jobs=-1,n_iter=30)"
   ]
  },
  {
   "cell_type": "code",
   "execution_count": 69,
   "id": "3ba78c50-cdf3-4ce9-a57c-67a41a79f36d",
   "metadata": {},
   "outputs": [
    {
     "name": "stdout",
     "output_type": "stream",
     "text": [
      "[21:49:32] WARNING: C:/Users/administrator/workspace/xgboost-win64_release_1.6.0/src/learner.cc:627: \n",
      "Parameters: { \"xgb__colsample_bytree\", \"xgb__gamma\", \"xgb__learning_rate\", \"xgb__max_depth\", \"xgb__n_estimators\" } might not be used.\n",
      "\n",
      "  This could be a false alarm, with some parameters getting used by language bindings but\n",
      "  then being mistakenly passed down to XGBoost core, or some parameter actually being used\n",
      "  but getting flagged wrongly here. Please open an issue if you find any such cases.\n",
      "\n",
      "\n"
     ]
    },
    {
     "data": {
      "text/plain": [
       "RandomizedSearchCV(cv=5,\n",
       "                   estimator=XGBClassifier(base_score=None, booster=None,\n",
       "                                           callbacks=None,\n",
       "                                           colsample_bylevel=None,\n",
       "                                           colsample_bynode=None,\n",
       "                                           colsample_bytree=None,\n",
       "                                           early_stopping_rounds=None,\n",
       "                                           enable_categorical=False,\n",
       "                                           eval_metric=None, gamma=None,\n",
       "                                           gpu_id=None, grow_policy=None,\n",
       "                                           importance_type=None,\n",
       "                                           interaction_constraints=None,\n",
       "                                           learning_rate=None, max_bin=None,...\n",
       "                                           n_estimators=100, n_jobs=None,\n",
       "                                           num_parallel_tree=None,\n",
       "                                           predictor=None, random_state=None,\n",
       "                                           reg_alpha=None, reg_lambda=None, ...),\n",
       "                   n_iter=30, n_jobs=-1,\n",
       "                   param_distributions={'xgb__colsample_bytree': [0.4, 0.5,\n",
       "                                                                  0.7],\n",
       "                                        'xgb__gamma': [0.02, 0.03, 0.04, 0.05,\n",
       "                                                       0.8],\n",
       "                                        'xgb__learning_rate': [0.1, 0.2, 0.8, 1,\n",
       "                                                               10],\n",
       "                                        'xgb__max_depth': [3, 4, 5],\n",
       "                                        'xgb__n_estimators': [10, 20, 30, 40,\n",
       "                                                              50]},\n",
       "                   scoring='neg_mean_squared_error')"
      ]
     },
     "execution_count": 69,
     "metadata": {},
     "output_type": "execute_result"
    }
   ],
   "source": [
    "rscv_gbm.fit(X_train_std, y_train)"
   ]
  },
  {
   "cell_type": "code",
   "execution_count": 70,
   "id": "e6e24e60-e8e2-43c4-9f6e-3e7b59bdc6fd",
   "metadata": {},
   "outputs": [],
   "source": [
    "fm_xg=rscv_gbm.best_estimator_"
   ]
  },
  {
   "cell_type": "code",
   "execution_count": 71,
   "id": "bb060174-df8c-4732-90c4-7335cd1b76fd",
   "metadata": {},
   "outputs": [],
   "source": [
    "y_predi=fm_xg.predict(X_test_std)"
   ]
  },
  {
   "cell_type": "code",
   "execution_count": 72,
   "id": "28d0bca6-44c1-43f9-aa0c-e648dfeb841c",
   "metadata": {},
   "outputs": [
    {
     "data": {
      "text/plain": [
       "array([1, 1, 1, ..., 0, 1, 1])"
      ]
     },
     "execution_count": 72,
     "metadata": {},
     "output_type": "execute_result"
    }
   ],
   "source": [
    "y_predi"
   ]
  },
  {
   "cell_type": "code",
   "execution_count": 73,
   "id": "8b462d07-4729-4a92-8573-cde1dde26fb2",
   "metadata": {},
   "outputs": [
    {
     "data": {
      "text/html": [
       "<div>\n",
       "<style scoped>\n",
       "    .dataframe tbody tr th:only-of-type {\n",
       "        vertical-align: middle;\n",
       "    }\n",
       "\n",
       "    .dataframe tbody tr th {\n",
       "        vertical-align: top;\n",
       "    }\n",
       "\n",
       "    .dataframe thead th {\n",
       "        text-align: right;\n",
       "    }\n",
       "</style>\n",
       "<table border=\"1\" class=\"dataframe\">\n",
       "  <thead>\n",
       "    <tr style=\"text-align: right;\">\n",
       "      <th>col_0</th>\n",
       "      <th>0</th>\n",
       "      <th>1</th>\n",
       "    </tr>\n",
       "    <tr>\n",
       "      <th>click</th>\n",
       "      <th></th>\n",
       "      <th></th>\n",
       "    </tr>\n",
       "  </thead>\n",
       "  <tbody>\n",
       "    <tr>\n",
       "      <th>0</th>\n",
       "      <td>14824</td>\n",
       "      <td>67905</td>\n",
       "    </tr>\n",
       "    <tr>\n",
       "      <th>1</th>\n",
       "      <td>2601</td>\n",
       "      <td>14177</td>\n",
       "    </tr>\n",
       "  </tbody>\n",
       "</table>\n",
       "</div>"
      ],
      "text/plain": [
       "col_0      0      1\n",
       "click              \n",
       "0      14824  67905\n",
       "1       2601  14177"
      ]
     },
     "execution_count": 73,
     "metadata": {},
     "output_type": "execute_result"
    }
   ],
   "source": [
    "pd.crosstab(y_test,y_predi)"
   ]
  },
  {
   "cell_type": "code",
   "execution_count": 74,
   "id": "4bc36029-3704-4009-a722-4e5241015e70",
   "metadata": {},
   "outputs": [
    {
     "data": {
      "text/plain": [
       "0.2914468328861286"
      ]
     },
     "execution_count": 74,
     "metadata": {},
     "output_type": "execute_result"
    }
   ],
   "source": [
    "accuracy_score(y_test,y_predi)"
   ]
  },
  {
   "cell_type": "code",
   "execution_count": 75,
   "id": "5f0b99bc-e2a6-4ad8-8976-13f5e09899c2",
   "metadata": {},
   "outputs": [
    {
     "data": {
      "text/plain": [
       "0.8449755632375731"
      ]
     },
     "execution_count": 75,
     "metadata": {},
     "output_type": "execute_result"
    }
   ],
   "source": [
    "recall_score(y_test,y_predi)"
   ]
  },
  {
   "cell_type": "code",
   "execution_count": 76,
   "id": "013a0f1b-1a0e-46a4-bfb3-df64aa8afb35",
   "metadata": {},
   "outputs": [
    {
     "data": {
      "text/plain": [
       "0.17271752637606297"
      ]
     },
     "execution_count": 76,
     "metadata": {},
     "output_type": "execute_result"
    }
   ],
   "source": [
    "precision_score(y_test,y_predi)"
   ]
  },
  {
   "cell_type": "code",
   "execution_count": 77,
   "id": "bb738a83-ac0c-4acd-80c4-669fcac63e57",
   "metadata": {},
   "outputs": [
    {
     "name": "stdout",
     "output_type": "stream",
     "text": [
      "              precision    recall  f1-score   support\n",
      "\n",
      "           0       0.85      0.18      0.30     82729\n",
      "           1       0.17      0.84      0.29     16778\n",
      "\n",
      "    accuracy                           0.29     99507\n",
      "   macro avg       0.51      0.51      0.29     99507\n",
      "weighted avg       0.74      0.29      0.29     99507\n",
      "\n"
     ]
    }
   ],
   "source": [
    "print(metrics.classification_report(y_test,rscv_gbm.predict(X_test_std)))"
   ]
  },
  {
   "cell_type": "code",
   "execution_count": 101,
   "id": "fd4eb3f0-5644-4cbc-84a6-232dd398ffed",
   "metadata": {},
   "outputs": [
    {
     "data": {
      "image/png": "[encoded data removed]",
      "text/plain": [
       "<Figure size 432x288 with 1 Axes>"
      ]
     },
     "metadata": {
      "needs_background": "light"
     },
     "output_type": "display_data"
    }
   ],
   "source": [
    "import matplotlib.pyplot as plt\n",
    "importances=fm_xg.feature_importances_\n",
    "sorted_indices = np.argsort(importances)[::-1]\n",
    " \n",
    "feat_labels = da.columns[1:]\n",
    " \n",
    "plt.title('Feature Importance')\n",
    "plt.bar(range(X_train.shape[1]), importances[sorted_indices], align='center')\n",
    "plt.xticks(range(X_train.shape[1]), X_train.columns[sorted_indices], rotation=90)\n",
    "plt.tight_layout()\n",
    "plt.show()"
   ]
  },
  {
   "cell_type": "markdown",
   "id": "2257b09a-80eb-4f9d-b9f3-67f40d047baa",
   "metadata": {},
   "source": [
    "# 4.Light gbm"
   ]
  },
  {
   "cell_type": "code",
   "execution_count": 79,
   "id": "c4dbb549-2647-4fd8-a4ed-aab2fa4f7995",
   "metadata": {},
   "outputs": [],
   "source": [
    "import lightgbm as lgb"
   ]
  },
  {
   "cell_type": "code",
   "execution_count": 28,
   "id": "0758ffc9-2baf-4986-894a-4cebd8e217f6",
   "metadata": {},
   "outputs": [
    {
     "name": "stdout",
     "output_type": "stream",
     "text": [
      "Requirement already satisfied: lightgbm in c:\\users\\prabhakaran.p\\anaconda3\\lib\\site-packages (3.3.3)\n",
      "Requirement already satisfied: numpy in c:\\users\\prabhakaran.p\\anaconda3\\lib\\site-packages (from lightgbm) (1.21.5)\n",
      "Requirement already satisfied: wheel in c:\\users\\prabhakaran.p\\anaconda3\\lib\\site-packages (from lightgbm) (0.37.1)\n",
      "Requirement already satisfied: scikit-learn!=0.22.0 in c:\\users\\prabhakaran.p\\anaconda3\\lib\\site-packages (from lightgbm) (1.0.2)\n",
      "Requirement already satisfied: scipy in c:\\users\\prabhakaran.p\\anaconda3\\lib\\site-packages (from lightgbm) (1.7.3)\n",
      "Requirement already satisfied: threadpoolctl>=2.0.0 in c:\\users\\prabhakaran.p\\anaconda3\\lib\\site-packages (from scikit-learn!=0.22.0->lightgbm) (2.2.0)\n",
      "Requirement already satisfied: joblib>=0.11 in c:\\users\\prabhakaran.p\\anaconda3\\lib\\site-packages (from scikit-learn!=0.22.0->lightgbm) (1.1.0)\n"
     ]
    }
   ],
   "source": [
    "!pip install lightgbm"
   ]
  },
  {
   "cell_type": "code",
   "execution_count": 80,
   "id": "c5969c98-69ba-4dc3-a797-3a1612d5e5d5",
   "metadata": {},
   "outputs": [],
   "source": [
    "lgb_param = {\n",
    "    \n",
    "    'n_estimators' : [10,20,30,40,50],\n",
    "    \n",
    "    'max_depth' : [3,4,5],\n",
    "    \n",
    "    'learning_rate' : [.1,.2,.8,1,10],\n",
    "    \n",
    "    'gamma' : [.02,.03,.04, .05,.8],\n",
    "    \n",
    "    'colsample_bytree' : [.4,.5,.7]\n",
    "    \n",
    "}"
   ]
  },
  {
   "cell_type": "code",
   "execution_count": 81,
   "id": "6b429124-e0fe-41c5-805b-54387cfb09ec",
   "metadata": {},
   "outputs": [],
   "source": [
    "model = lgb.LGBMClassifier()\n",
    "l_gb = RandomizedSearchCV(estimator=model,scoring='neg_mean_squared_error',param_distributions=lgb_param,cv=5,n_jobs=-1,n_iter=30)"
   ]
  },
  {
   "cell_type": "code",
   "execution_count": 82,
   "id": "72931954-3c69-4880-b5a8-bbe7e2144218",
   "metadata": {},
   "outputs": [
    {
     "name": "stdout",
     "output_type": "stream",
     "text": [
      "[LightGBM] [Warning] Unknown parameter: gamma\n",
      "[20]\ttraining's binary_logloss: 2.12081e-08\tvalid_0's binary_logloss: 9.36318\n"
     ]
    },
    {
     "data": {
      "text/plain": [
       "RandomizedSearchCV(cv=5, estimator=LGBMClassifier(), n_iter=30, n_jobs=-1,\n",
       "                   param_distributions={'colsample_bytree': [0.4, 0.5, 0.7],\n",
       "                                        'gamma': [0.02, 0.03, 0.04, 0.05, 0.8],\n",
       "                                        'learning_rate': [0.1, 0.2, 0.8, 1, 10],\n",
       "                                        'max_depth': [3, 4, 5],\n",
       "                                        'n_estimators': [10, 20, 30, 40, 50]},\n",
       "                   scoring='neg_mean_squared_error')"
      ]
     },
     "execution_count": 82,
     "metadata": {},
     "output_type": "execute_result"
    }
   ],
   "source": [
    "l_gb.fit(X_train_std,y_train,eval_set=[(X_test_std,y_test),(X_train_std,y_train)],\n",
    "          verbose=20,eval_metric='logloss')"
   ]
  },
  {
   "cell_type": "code",
   "execution_count": 83,
   "id": "5b3d474c-7bc7-46d0-ab47-014d430d7f4c",
   "metadata": {},
   "outputs": [],
   "source": [
    "fm_lg=l_gb.best_estimator_"
   ]
  },
  {
   "cell_type": "code",
   "execution_count": 90,
   "id": "41fd7567-5be7-4634-bfe3-2dfe5e93504c",
   "metadata": {},
   "outputs": [],
   "source": [
    "y_predi=l_gb.predict(X_test_std)"
   ]
  },
  {
   "cell_type": "code",
   "execution_count": 91,
   "id": "eda36dd5-701b-4fc1-904a-b3f4b61bdbb7",
   "metadata": {},
   "outputs": [
    {
     "data": {
      "text/plain": [
       "array([1, 1, 1, ..., 0, 1, 1], dtype=int64)"
      ]
     },
     "execution_count": 91,
     "metadata": {},
     "output_type": "execute_result"
    }
   ],
   "source": [
    "y_predi"
   ]
  },
  {
   "cell_type": "code",
   "execution_count": 92,
   "id": "b00ff726-9f67-4e83-b10e-4902e9c9ce65",
   "metadata": {},
   "outputs": [
    {
     "data": {
      "text/plain": [
       "0.8449755632375731"
      ]
     },
     "execution_count": 92,
     "metadata": {},
     "output_type": "execute_result"
    }
   ],
   "source": [
    "recall_score(y_test,fm_lg.predict(X_test_std))"
   ]
  },
  {
   "cell_type": "code",
   "execution_count": 93,
   "id": "a4e7d12b-54cb-49a9-8896-d588c4efd420",
   "metadata": {},
   "outputs": [
    {
     "data": {
      "text/plain": [
       "0.2914769815188881"
      ]
     },
     "execution_count": 93,
     "metadata": {},
     "output_type": "execute_result"
    }
   ],
   "source": [
    "accuracy_score(y_test,fm_lg.predict(X_test_std))"
   ]
  },
  {
   "cell_type": "code",
   "execution_count": 94,
   "id": "739dffa6-43e5-48d3-b233-234bd868cc0e",
   "metadata": {},
   "outputs": [
    {
     "data": {
      "text/plain": [
       "0.17272383922806078"
      ]
     },
     "execution_count": 94,
     "metadata": {},
     "output_type": "execute_result"
    }
   ],
   "source": [
    "precision_score(y_test,fm_lg.predict(X_test_std))"
   ]
  },
  {
   "cell_type": "code",
   "execution_count": 95,
   "id": "5031f707-3fc5-4e16-b05f-000a793e5e57",
   "metadata": {},
   "outputs": [
    {
     "name": "stdout",
     "output_type": "stream",
     "text": [
      "              precision    recall  f1-score   support\n",
      "\n",
      "           0       0.85      0.18      0.30     82729\n",
      "           1       0.17      0.84      0.29     16778\n",
      "\n",
      "    accuracy                           0.29     99507\n",
      "   macro avg       0.51      0.51      0.29     99507\n",
      "weighted avg       0.74      0.29      0.29     99507\n",
      "\n"
     ]
    }
   ],
   "source": [
    "print(metrics.classification_report(y_test,fm_lg.predict(X_test_std)))"
   ]
  },
  {
   "cell_type": "code",
   "execution_count": 96,
   "id": "3f77e077-e540-4e98-a370-c629d7f9cc0b",
   "metadata": {},
   "outputs": [
    {
     "data": {
      "image/png": "[encoded data removed]",
      "text/plain": [
       "<Figure size 432x288 with 1 Axes>"
      ]
     },
     "metadata": {
      "needs_background": "light"
     },
     "output_type": "display_data"
    }
   ],
   "source": [
    "import matplotlib.pyplot as plt\n",
    "importances=fm_lg.feature_importances_\n",
    "sorted_indices = np.argsort(importances)[::-1]\n",
    " \n",
    "feat_labels = da.columns[1:]\n",
    " \n",
    "plt.title('light gbm Feature Importance')\n",
    "plt.bar(range(X_train.shape[1]), importances[sorted_indices], align='center')\n",
    "plt.xticks(range(X_train.shape[1]), X_train.columns[sorted_indices], rotation=90)\n",
    "plt.tight_layout()\n",
    "plt.show()"
   ]
  },
  {
   "cell_type": "code",
   "execution_count": 97,
   "id": "ba73f03f-dad8-4af3-aca0-5ff4c34a2fe3",
   "metadata": {},
   "outputs": [],
   "source": [
    "import sklearn.metrics as metrics"
   ]
  },
  {
   "cell_type": "code",
   "execution_count": 98,
   "id": "506a09f5-7102-4569-bf48-430ebf114a3e",
   "metadata": {},
   "outputs": [],
   "source": [
    "from sklearn.metrics import plot_confusion_matrix"
   ]
  },
  {
   "cell_type": "code",
   "execution_count": 100,
   "id": "168c08ac-84e7-4ee6-ad22-d66bb9ef8d15",
   "metadata": {},
   "outputs": [
    {
     "data": {
      "text/html": [
       "<div>\n",
       "<style scoped>\n",
       "    .dataframe tbody tr th:only-of-type {\n",
       "        vertical-align: middle;\n",
       "    }\n",
       "\n",
       "    .dataframe tbody tr th {\n",
       "        vertical-align: top;\n",
       "    }\n",
       "\n",
       "    .dataframe thead th {\n",
       "        text-align: right;\n",
       "    }\n",
       "</style>\n",
       "<table border=\"1\" class=\"dataframe\">\n",
       "  <thead>\n",
       "    <tr style=\"text-align: right;\">\n",
       "      <th>col_0</th>\n",
       "      <th>0</th>\n",
       "      <th>1</th>\n",
       "    </tr>\n",
       "    <tr>\n",
       "      <th>click</th>\n",
       "      <th></th>\n",
       "      <th></th>\n",
       "    </tr>\n",
       "  </thead>\n",
       "  <tbody>\n",
       "    <tr>\n",
       "      <th>0</th>\n",
       "      <td>14827</td>\n",
       "      <td>67902</td>\n",
       "    </tr>\n",
       "    <tr>\n",
       "      <th>1</th>\n",
       "      <td>2601</td>\n",
       "      <td>14177</td>\n",
       "    </tr>\n",
       "  </tbody>\n",
       "</table>\n",
       "</div>"
      ],
      "text/plain": [
       "col_0      0      1\n",
       "click              \n",
       "0      14827  67902\n",
       "1       2601  14177"
      ]
     },
     "execution_count": 100,
     "metadata": {},
     "output_type": "execute_result"
    }
   ],
   "source": [
    "pd.crosstab(y_test,y_predi)"
   ]
  },
  {
   "cell_type": "markdown",
   "id": "eb5ae6f8-358d-422e-8240-e1119219eec1",
   "metadata": {},
   "source": [
    "# 5.Naive Bayes Classifier"
   ]
  },
  {
   "cell_type": "code",
   "execution_count": 102,
   "id": "632c30a4-a9d2-4243-8cd2-d1fa41d02463",
   "metadata": {},
   "outputs": [],
   "source": [
    "from sklearn.inspection import permutation_importance"
   ]
  },
  {
   "cell_type": "code",
   "execution_count": 103,
   "id": "b30679a0-ed5b-4380-838a-3a1c9262a0c1",
   "metadata": {},
   "outputs": [],
   "source": [
    "from sklearn.model_selection import RepeatedStratifiedKFold"
   ]
  },
  {
   "cell_type": "code",
   "execution_count": 104,
   "id": "8e6b3374-25f2-481d-bf23-d1d373367104",
   "metadata": {},
   "outputs": [],
   "source": [
    "from sklearn.naive_bayes import GaussianNB\n",
    "gnb = GaussianNB()"
   ]
  },
  {
   "cell_type": "code",
   "execution_count": 105,
   "id": "f3f566af-35ce-45a1-b278-3e46ae98a96a",
   "metadata": {},
   "outputs": [],
   "source": [
    "fm_gn=gnb.fit(X_train_std, y_train)"
   ]
  },
  {
   "cell_type": "code",
   "execution_count": 106,
   "id": "ed991efa-23db-4704-a13d-7db430bfb3c3",
   "metadata": {},
   "outputs": [
    {
     "name": "stdout",
     "output_type": "stream",
     "text": [
      "Training accuracy 0.7599\n",
      "Testing accuracy 0.7640\n"
     ]
    }
   ],
   "source": [
    "print('Training accuracy {:.4f}'.format(gnb.score(X_train_std,y_train)))\n",
    "print('Testing accuracy {:.4f}'.format(gnb.score(X_test_std,y_test)))"
   ]
  },
  {
   "cell_type": "code",
   "execution_count": 108,
   "id": "dca3da7e-6bc1-4406-a14b-93ab4d1a888a",
   "metadata": {},
   "outputs": [],
   "source": [
    "y_predi=gnb.predict(X_test_std)"
   ]
  },
  {
   "cell_type": "code",
   "execution_count": 109,
   "id": "a9d2ba1a-3d09-425d-93d1-a1b4aae00857",
   "metadata": {},
   "outputs": [
    {
     "data": {
      "text/html": [
       "<div>\n",
       "<style scoped>\n",
       "    .dataframe tbody tr th:only-of-type {\n",
       "        vertical-align: middle;\n",
       "    }\n",
       "\n",
       "    .dataframe tbody tr th {\n",
       "        vertical-align: top;\n",
       "    }\n",
       "\n",
       "    .dataframe thead th {\n",
       "        text-align: right;\n",
       "    }\n",
       "</style>\n",
       "<table border=\"1\" class=\"dataframe\">\n",
       "  <thead>\n",
       "    <tr style=\"text-align: right;\">\n",
       "      <th>col_0</th>\n",
       "      <th>0</th>\n",
       "      <th>1</th>\n",
       "    </tr>\n",
       "    <tr>\n",
       "      <th>click</th>\n",
       "      <th></th>\n",
       "      <th></th>\n",
       "    </tr>\n",
       "  </thead>\n",
       "  <tbody>\n",
       "    <tr>\n",
       "      <th>0</th>\n",
       "      <td>70228</td>\n",
       "      <td>12501</td>\n",
       "    </tr>\n",
       "    <tr>\n",
       "      <th>1</th>\n",
       "      <td>10986</td>\n",
       "      <td>5792</td>\n",
       "    </tr>\n",
       "  </tbody>\n",
       "</table>\n",
       "</div>"
      ],
      "text/plain": [
       "col_0      0      1\n",
       "click              \n",
       "0      70228  12501\n",
       "1      10986   5792"
      ]
     },
     "execution_count": 109,
     "metadata": {},
     "output_type": "execute_result"
    }
   ],
   "source": [
    "pd.crosstab(y_test,y_predi)"
   ]
  },
  {
   "cell_type": "code",
   "execution_count": 110,
   "id": "6a5b04f7-84d4-42d7-8ae1-e41cd0bb2682",
   "metadata": {},
   "outputs": [
    {
     "data": {
      "text/plain": [
       "array([ 8.03963540e-06, -1.35467857e-03, -2.47017798e-03, -1.37075784e-03,\n",
       "       -5.35841700e-03,  1.96971067e-04,  1.78881888e-04,  1.53858523e-02,\n",
       "       -1.03108324e-03, -1.46120373e-03, -1.07731114e-03,  3.05506145e-04,\n",
       "       -2.73749585e-03,  6.52416413e-03,  5.59558624e-03, -2.34154381e-03,\n",
       "       -4.39366075e-03, -9.90081100e-03, -7.60348518e-03,  2.13050338e-03,\n",
       "       -3.61783593e-05, -2.95456601e-03])"
      ]
     },
     "execution_count": 110,
     "metadata": {},
     "output_type": "execute_result"
    }
   ],
   "source": [
    "imps = permutation_importance(fm_gn, X_test_std, y_test)\n",
    "imps.importances_mean"
   ]
  },
  {
   "cell_type": "code",
   "execution_count": 111,
   "id": "195a2b03-6b76-4e92-96b0-ddf5179305c8",
   "metadata": {},
   "outputs": [
    {
     "data": {
      "text/plain": [
       "0.7639663541258404"
      ]
     },
     "execution_count": 111,
     "metadata": {},
     "output_type": "execute_result"
    }
   ],
   "source": [
    "accuracy_score(y_test,y_predi)"
   ]
  },
  {
   "cell_type": "code",
   "execution_count": 112,
   "id": "b50ab6f2-5924-41a0-8597-20cbdb7a3b0e",
   "metadata": {},
   "outputs": [],
   "source": [
    "from sklearn.metrics import recall_score, precision_score"
   ]
  },
  {
   "cell_type": "code",
   "execution_count": 113,
   "id": "dba64708-b965-49db-8991-0fb6b301b3cb",
   "metadata": {},
   "outputs": [
    {
     "data": {
      "text/plain": [
       "0.3452139706758851"
      ]
     },
     "execution_count": 113,
     "metadata": {},
     "output_type": "execute_result"
    }
   ],
   "source": [
    "recall_score(y_test,y_predi)"
   ]
  },
  {
   "cell_type": "code",
   "execution_count": 114,
   "id": "a63d0b01-58d6-4651-87b9-280e7af033eb",
   "metadata": {},
   "outputs": [
    {
     "data": {
      "text/plain": [
       "0.3166238451866834"
      ]
     },
     "execution_count": 114,
     "metadata": {},
     "output_type": "execute_result"
    }
   ],
   "source": [
    "precision_score(y_test,y_predi)"
   ]
  },
  {
   "cell_type": "code",
   "execution_count": 115,
   "id": "771ba0f6-f672-4b2c-9463-39c08193db4a",
   "metadata": {},
   "outputs": [
    {
     "name": "stdout",
     "output_type": "stream",
     "text": [
      "              precision    recall  f1-score   support\n",
      "\n",
      "           0       0.86      0.85      0.86     82729\n",
      "           1       0.32      0.35      0.33     16778\n",
      "\n",
      "    accuracy                           0.76     99507\n",
      "   macro avg       0.59      0.60      0.59     99507\n",
      "weighted avg       0.77      0.76      0.77     99507\n",
      "\n"
     ]
    }
   ],
   "source": [
    "print(metrics.classification_report(y_test,gnb.predict(X_test_std)))"
   ]
  }
 ],
 "metadata": {
  "kernelspec": {
   "display_name": "Python 3 (ipykernel)",
   "language": "python",
   "name": "python3"
  },
  "language_info": {
   "codemirror_mode": {
    "name": "ipython",
    "version": 3
   },
   "file_extension": ".py",
   "mimetype": "text/x-python",
   "name": "python",
   "nbconvert_exporter": "python",
   "pygments_lexer": "ipython3",
   "version": "3.9.12"
  }
 },
 "nbformat": 4,
 "nbformat_minor": 5
}
